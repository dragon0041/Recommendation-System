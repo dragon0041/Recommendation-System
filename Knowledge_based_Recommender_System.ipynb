{
  "nbformat": 4,
  "nbformat_minor": 0,
  "metadata": {
    "colab": {
      "name": "Knowledge-based-Recommender-System.ipynb",
      "provenance": [],
      "collapsed_sections": [
        "IhY_79CI31QH"
      ],
      "authorship_tag": "ABX9TyP39AGjke3UKtl3Djg2eY1v",
      "include_colab_link": true
    },
    "kernelspec": {
      "name": "python3",
      "display_name": "Python 3"
    }
  },
  "cells": [
    {
      "cell_type": "markdown",
      "metadata": {
        "id": "view-in-github",
        "colab_type": "text"
      },
      "source": [
        "<a href=\"https://colab.research.google.com/github/rposhala/Recommender-System-on-MovieLens-dataset/blob/main/Knowledge_based_Recommender_System.ipynb\" target=\"_parent\"><img src=\"https://colab.research.google.com/assets/colab-badge.svg\" alt=\"Open In Colab\"/></a>"
      ]
    },
    {
      "cell_type": "code",
      "metadata": {
        "id": "I6QppVIb871O"
      },
      "source": [
        "import os\n",
        "import numpy as np\n",
        "import pandas as pd\n",
        "import matplotlib.pyplot as plt\n",
        "#from scipy.sparse import csr_matrix\n",
        "#from sklearn.neighbors import NearestNeighbors\n",
        "#from sklearn.model_selection import train_test_split"
      ],
      "execution_count": null,
      "outputs": []
    },
    {
      "cell_type": "markdown",
      "metadata": {
        "id": "e2b-97_pD3_X"
      },
      "source": [
        "## Loading MovieLens rating dataset of size 100k"
      ]
    },
    {
      "cell_type": "code",
      "metadata": {
        "id": "QBxz0KI-D3Xa"
      },
      "source": [
        "DATASET_LINK='http://files.grouplens.org/datasets/movielens/ml-100k.zip'"
      ],
      "execution_count": null,
      "outputs": []
    },
    {
      "cell_type": "code",
      "metadata": {
        "id": "OIUrxfX2EXKP"
      },
      "source": [
        "## if done in jupyter notebook on a local machine\n",
        "\n",
        "# !conda install -c anaconda wget --yes"
      ],
      "execution_count": null,
      "outputs": []
    },
    {
      "cell_type": "code",
      "metadata": {
        "id": "IhxnKWueEfCT",
        "outputId": "308fba5a-fcb5-4cf0-c529-8eb8c3677730",
        "colab": {
          "base_uri": "https://localhost:8080/",
          "height": 629
        }
      },
      "source": [
        "!wget -nc http://files.grouplens.org/datasets/movielens/ml-100k.zip\n",
        "!unzip -n ml-100k.zip"
      ],
      "execution_count": null,
      "outputs": [
        {
          "output_type": "stream",
          "text": [
            "--2020-10-16 01:11:02--  http://files.grouplens.org/datasets/movielens/ml-100k.zip\n",
            "Resolving files.grouplens.org (files.grouplens.org)... 128.101.65.152\n",
            "Connecting to files.grouplens.org (files.grouplens.org)|128.101.65.152|:80... connected.\n",
            "HTTP request sent, awaiting response... 200 OK\n",
            "Length: 4924029 (4.7M) [application/zip]\n",
            "Saving to: ‘ml-100k.zip’\n",
            "\n",
            "ml-100k.zip         100%[===================>]   4.70M  16.3MB/s    in 0.3s    \n",
            "\n",
            "2020-10-16 01:11:02 (16.3 MB/s) - ‘ml-100k.zip’ saved [4924029/4924029]\n",
            "\n",
            "Archive:  ml-100k.zip\n",
            "   creating: ml-100k/\n",
            "  inflating: ml-100k/allbut.pl       \n",
            "  inflating: ml-100k/mku.sh          \n",
            "  inflating: ml-100k/README          \n",
            "  inflating: ml-100k/u.data          \n",
            "  inflating: ml-100k/u.genre         \n",
            "  inflating: ml-100k/u.info          \n",
            "  inflating: ml-100k/u.item          \n",
            "  inflating: ml-100k/u.occupation    \n",
            "  inflating: ml-100k/u.user          \n",
            "  inflating: ml-100k/u1.base         \n",
            "  inflating: ml-100k/u1.test         \n",
            "  inflating: ml-100k/u2.base         \n",
            "  inflating: ml-100k/u2.test         \n",
            "  inflating: ml-100k/u3.base         \n",
            "  inflating: ml-100k/u3.test         \n",
            "  inflating: ml-100k/u4.base         \n",
            "  inflating: ml-100k/u4.test         \n",
            "  inflating: ml-100k/u5.base         \n",
            "  inflating: ml-100k/u5.test         \n",
            "  inflating: ml-100k/ua.base         \n",
            "  inflating: ml-100k/ua.test         \n",
            "  inflating: ml-100k/ub.base         \n",
            "  inflating: ml-100k/ub.test         \n"
          ],
          "name": "stdout"
        }
      ]
    },
    {
      "cell_type": "markdown",
      "metadata": {
        "id": "vpA1EWM-KVoT"
      },
      "source": [
        "## u.info     -- The number of users, items, and ratings in the u data set."
      ]
    },
    {
      "cell_type": "code",
      "metadata": {
        "id": "GHDq1-JlEooc",
        "outputId": "b2004e87-18e6-4224-b4cf-e53895608ba3",
        "colab": {
          "base_uri": "https://localhost:8080/",
          "height": 34
        }
      },
      "source": [
        "overall_stats = pd.read_csv('ml-100k/u.info', header=None)\n",
        "print(\"Details of users, items and ratings involved in the loaded movielens dataset: \",list(overall_stats[0]))"
      ],
      "execution_count": null,
      "outputs": [
        {
          "output_type": "stream",
          "text": [
            "Details of users, items and ratings involved in the loaded movielens dataset:  ['943 users', '1682 items', '100000 ratings']\n"
          ],
          "name": "stdout"
        }
      ]
    },
    {
      "cell_type": "markdown",
      "metadata": {
        "id": "6kRw5oLJIofy"
      },
      "source": [
        "## u.data     -- The full u data set, 100000 ratings by 943 users on 1682 items.\n",
        "\n",
        "              Each user has rated at least 20 movies.  Users and items are\n",
        "              numbered consecutively from 1.  The data is randomly ordered. This is a tab separated list of \n",
        "\t         user id | item id | rating | timestamp. \n",
        "              The time stamps are unix seconds since 1/1/1970 UTC "
      ]
    },
    {
      "cell_type": "code",
      "metadata": {
        "id": "bWag-M0KHbKk",
        "outputId": "b1a73b61-7662-4e5c-ecd1-ec9063d5a4ed",
        "colab": {
          "base_uri": "https://localhost:8080/",
          "height": 204
        }
      },
      "source": [
        "## same item id is same as movie id, item id column is renamed as movie id\n",
        "column_names1 = ['user id','movie id','rating','timestamp']\n",
        "dataset = pd.read_csv('ml-100k/u.data', sep='\\t',header=None,names=column_names1)\n",
        "dataset.head()"
      ],
      "execution_count": null,
      "outputs": [
        {
          "output_type": "execute_result",
          "data": {
            "text/html": [
              "<div>\n",
              "<style scoped>\n",
              "    .dataframe tbody tr th:only-of-type {\n",
              "        vertical-align: middle;\n",
              "    }\n",
              "\n",
              "    .dataframe tbody tr th {\n",
              "        vertical-align: top;\n",
              "    }\n",
              "\n",
              "    .dataframe thead th {\n",
              "        text-align: right;\n",
              "    }\n",
              "</style>\n",
              "<table border=\"1\" class=\"dataframe\">\n",
              "  <thead>\n",
              "    <tr style=\"text-align: right;\">\n",
              "      <th></th>\n",
              "      <th>user id</th>\n",
              "      <th>movie id</th>\n",
              "      <th>rating</th>\n",
              "      <th>timestamp</th>\n",
              "    </tr>\n",
              "  </thead>\n",
              "  <tbody>\n",
              "    <tr>\n",
              "      <th>0</th>\n",
              "      <td>196</td>\n",
              "      <td>242</td>\n",
              "      <td>3</td>\n",
              "      <td>881250949</td>\n",
              "    </tr>\n",
              "    <tr>\n",
              "      <th>1</th>\n",
              "      <td>186</td>\n",
              "      <td>302</td>\n",
              "      <td>3</td>\n",
              "      <td>891717742</td>\n",
              "    </tr>\n",
              "    <tr>\n",
              "      <th>2</th>\n",
              "      <td>22</td>\n",
              "      <td>377</td>\n",
              "      <td>1</td>\n",
              "      <td>878887116</td>\n",
              "    </tr>\n",
              "    <tr>\n",
              "      <th>3</th>\n",
              "      <td>244</td>\n",
              "      <td>51</td>\n",
              "      <td>2</td>\n",
              "      <td>880606923</td>\n",
              "    </tr>\n",
              "    <tr>\n",
              "      <th>4</th>\n",
              "      <td>166</td>\n",
              "      <td>346</td>\n",
              "      <td>1</td>\n",
              "      <td>886397596</td>\n",
              "    </tr>\n",
              "  </tbody>\n",
              "</table>\n",
              "</div>"
            ],
            "text/plain": [
              "   user id  movie id  rating  timestamp\n",
              "0      196       242       3  881250949\n",
              "1      186       302       3  891717742\n",
              "2       22       377       1  878887116\n",
              "3      244        51       2  880606923\n",
              "4      166       346       1  886397596"
            ]
          },
          "metadata": {
            "tags": []
          },
          "execution_count": 6
        }
      ]
    },
    {
      "cell_type": "code",
      "metadata": {
        "id": "uWiCCCZfQrBJ",
        "outputId": "af7bcc44-3684-41ac-86ab-ba0f864ded05",
        "colab": {
          "base_uri": "https://localhost:8080/",
          "height": 34
        }
      },
      "source": [
        "len(dataset), max(dataset['movie id']),min(dataset['movie id'])"
      ],
      "execution_count": null,
      "outputs": [
        {
          "output_type": "execute_result",
          "data": {
            "text/plain": [
              "(100000, 1682, 1)"
            ]
          },
          "metadata": {
            "tags": []
          },
          "execution_count": 7
        }
      ]
    },
    {
      "cell_type": "markdown",
      "metadata": {
        "id": "2bVpYrebKvzh"
      },
      "source": [
        "## u.item     -- Information about the items (movies); this is a tab separated\n",
        "              list of\n",
        "              movie id | movie title | release date | video release date |\n",
        "              IMDb URL | unknown | Action | Adventure | Animation |\n",
        "              Children's | Comedy | Crime | Documentary | Drama | Fantasy |\n",
        "              Film-Noir | Horror | Musical | Mystery | Romance | Sci-Fi |\n",
        "              Thriller | War | Western |\n",
        "              The last 19 fields are the genres, a 1 indicates the movie\n",
        "              is of that genre, a 0 indicates it is not; movies can be in\n",
        "              several genres at once.\n",
        "              The movie ids are the ones used in the u.data data set.\n"
      ]
    },
    {
      "cell_type": "code",
      "metadata": {
        "id": "40FkKuG6M9tS",
        "outputId": "3d17019f-b479-4dec-fcab-c8387572a376",
        "colab": {
          "base_uri": "https://localhost:8080/",
          "height": 425
        }
      },
      "source": [
        "d = 'movie id | movie title | release date | video release date | IMDb URL | unknown | Action | Adventure | Animation | Children | Comedy | Crime | Documentary | Drama | Fantasy | Film-Noir | Horror | Musical | Mystery | Romance | Sci-Fi | Thriller | War | Western'\n",
        "column_names2 = d.split(' | ')\n",
        "column_names2"
      ],
      "execution_count": null,
      "outputs": [
        {
          "output_type": "execute_result",
          "data": {
            "text/plain": [
              "['movie id',\n",
              " 'movie title',\n",
              " 'release date',\n",
              " 'video release date',\n",
              " 'IMDb URL',\n",
              " 'unknown',\n",
              " 'Action',\n",
              " 'Adventure',\n",
              " 'Animation',\n",
              " 'Children',\n",
              " 'Comedy',\n",
              " 'Crime',\n",
              " 'Documentary',\n",
              " 'Drama',\n",
              " 'Fantasy',\n",
              " 'Film-Noir',\n",
              " 'Horror',\n",
              " 'Musical',\n",
              " 'Mystery',\n",
              " 'Romance',\n",
              " 'Sci-Fi',\n",
              " 'Thriller',\n",
              " 'War',\n",
              " 'Western']"
            ]
          },
          "metadata": {
            "tags": []
          },
          "execution_count": 8
        }
      ]
    },
    {
      "cell_type": "code",
      "metadata": {
        "id": "rOFkTodrJQIi",
        "outputId": "c31ed623-7d48-4022-9465-6038fb3f164d",
        "colab": {
          "base_uri": "https://localhost:8080/",
          "height": 779
        }
      },
      "source": [
        "items_dataset = pd.read_csv('ml-100k/u.item', sep='|',header=None,names=column_names2,encoding='latin-1')\n",
        "items_dataset"
      ],
      "execution_count": null,
      "outputs": [
        {
          "output_type": "execute_result",
          "data": {
            "text/html": [
              "<div>\n",
              "<style scoped>\n",
              "    .dataframe tbody tr th:only-of-type {\n",
              "        vertical-align: middle;\n",
              "    }\n",
              "\n",
              "    .dataframe tbody tr th {\n",
              "        vertical-align: top;\n",
              "    }\n",
              "\n",
              "    .dataframe thead th {\n",
              "        text-align: right;\n",
              "    }\n",
              "</style>\n",
              "<table border=\"1\" class=\"dataframe\">\n",
              "  <thead>\n",
              "    <tr style=\"text-align: right;\">\n",
              "      <th></th>\n",
              "      <th>movie id</th>\n",
              "      <th>movie title</th>\n",
              "      <th>release date</th>\n",
              "      <th>video release date</th>\n",
              "      <th>IMDb URL</th>\n",
              "      <th>unknown</th>\n",
              "      <th>Action</th>\n",
              "      <th>Adventure</th>\n",
              "      <th>Animation</th>\n",
              "      <th>Children</th>\n",
              "      <th>Comedy</th>\n",
              "      <th>Crime</th>\n",
              "      <th>Documentary</th>\n",
              "      <th>Drama</th>\n",
              "      <th>Fantasy</th>\n",
              "      <th>Film-Noir</th>\n",
              "      <th>Horror</th>\n",
              "      <th>Musical</th>\n",
              "      <th>Mystery</th>\n",
              "      <th>Romance</th>\n",
              "      <th>Sci-Fi</th>\n",
              "      <th>Thriller</th>\n",
              "      <th>War</th>\n",
              "      <th>Western</th>\n",
              "    </tr>\n",
              "  </thead>\n",
              "  <tbody>\n",
              "    <tr>\n",
              "      <th>0</th>\n",
              "      <td>1</td>\n",
              "      <td>Toy Story (1995)</td>\n",
              "      <td>01-Jan-1995</td>\n",
              "      <td>NaN</td>\n",
              "      <td>http://us.imdb.com/M/title-exact?Toy%20Story%2...</td>\n",
              "      <td>0</td>\n",
              "      <td>0</td>\n",
              "      <td>0</td>\n",
              "      <td>1</td>\n",
              "      <td>1</td>\n",
              "      <td>1</td>\n",
              "      <td>0</td>\n",
              "      <td>0</td>\n",
              "      <td>0</td>\n",
              "      <td>0</td>\n",
              "      <td>0</td>\n",
              "      <td>0</td>\n",
              "      <td>0</td>\n",
              "      <td>0</td>\n",
              "      <td>0</td>\n",
              "      <td>0</td>\n",
              "      <td>0</td>\n",
              "      <td>0</td>\n",
              "      <td>0</td>\n",
              "    </tr>\n",
              "    <tr>\n",
              "      <th>1</th>\n",
              "      <td>2</td>\n",
              "      <td>GoldenEye (1995)</td>\n",
              "      <td>01-Jan-1995</td>\n",
              "      <td>NaN</td>\n",
              "      <td>http://us.imdb.com/M/title-exact?GoldenEye%20(...</td>\n",
              "      <td>0</td>\n",
              "      <td>1</td>\n",
              "      <td>1</td>\n",
              "      <td>0</td>\n",
              "      <td>0</td>\n",
              "      <td>0</td>\n",
              "      <td>0</td>\n",
              "      <td>0</td>\n",
              "      <td>0</td>\n",
              "      <td>0</td>\n",
              "      <td>0</td>\n",
              "      <td>0</td>\n",
              "      <td>0</td>\n",
              "      <td>0</td>\n",
              "      <td>0</td>\n",
              "      <td>0</td>\n",
              "      <td>1</td>\n",
              "      <td>0</td>\n",
              "      <td>0</td>\n",
              "    </tr>\n",
              "    <tr>\n",
              "      <th>2</th>\n",
              "      <td>3</td>\n",
              "      <td>Four Rooms (1995)</td>\n",
              "      <td>01-Jan-1995</td>\n",
              "      <td>NaN</td>\n",
              "      <td>http://us.imdb.com/M/title-exact?Four%20Rooms%...</td>\n",
              "      <td>0</td>\n",
              "      <td>0</td>\n",
              "      <td>0</td>\n",
              "      <td>0</td>\n",
              "      <td>0</td>\n",
              "      <td>0</td>\n",
              "      <td>0</td>\n",
              "      <td>0</td>\n",
              "      <td>0</td>\n",
              "      <td>0</td>\n",
              "      <td>0</td>\n",
              "      <td>0</td>\n",
              "      <td>0</td>\n",
              "      <td>0</td>\n",
              "      <td>0</td>\n",
              "      <td>0</td>\n",
              "      <td>1</td>\n",
              "      <td>0</td>\n",
              "      <td>0</td>\n",
              "    </tr>\n",
              "    <tr>\n",
              "      <th>3</th>\n",
              "      <td>4</td>\n",
              "      <td>Get Shorty (1995)</td>\n",
              "      <td>01-Jan-1995</td>\n",
              "      <td>NaN</td>\n",
              "      <td>http://us.imdb.com/M/title-exact?Get%20Shorty%...</td>\n",
              "      <td>0</td>\n",
              "      <td>1</td>\n",
              "      <td>0</td>\n",
              "      <td>0</td>\n",
              "      <td>0</td>\n",
              "      <td>1</td>\n",
              "      <td>0</td>\n",
              "      <td>0</td>\n",
              "      <td>1</td>\n",
              "      <td>0</td>\n",
              "      <td>0</td>\n",
              "      <td>0</td>\n",
              "      <td>0</td>\n",
              "      <td>0</td>\n",
              "      <td>0</td>\n",
              "      <td>0</td>\n",
              "      <td>0</td>\n",
              "      <td>0</td>\n",
              "      <td>0</td>\n",
              "    </tr>\n",
              "    <tr>\n",
              "      <th>4</th>\n",
              "      <td>5</td>\n",
              "      <td>Copycat (1995)</td>\n",
              "      <td>01-Jan-1995</td>\n",
              "      <td>NaN</td>\n",
              "      <td>http://us.imdb.com/M/title-exact?Copycat%20(1995)</td>\n",
              "      <td>0</td>\n",
              "      <td>0</td>\n",
              "      <td>0</td>\n",
              "      <td>0</td>\n",
              "      <td>0</td>\n",
              "      <td>0</td>\n",
              "      <td>1</td>\n",
              "      <td>0</td>\n",
              "      <td>1</td>\n",
              "      <td>0</td>\n",
              "      <td>0</td>\n",
              "      <td>0</td>\n",
              "      <td>0</td>\n",
              "      <td>0</td>\n",
              "      <td>0</td>\n",
              "      <td>0</td>\n",
              "      <td>1</td>\n",
              "      <td>0</td>\n",
              "      <td>0</td>\n",
              "    </tr>\n",
              "    <tr>\n",
              "      <th>...</th>\n",
              "      <td>...</td>\n",
              "      <td>...</td>\n",
              "      <td>...</td>\n",
              "      <td>...</td>\n",
              "      <td>...</td>\n",
              "      <td>...</td>\n",
              "      <td>...</td>\n",
              "      <td>...</td>\n",
              "      <td>...</td>\n",
              "      <td>...</td>\n",
              "      <td>...</td>\n",
              "      <td>...</td>\n",
              "      <td>...</td>\n",
              "      <td>...</td>\n",
              "      <td>...</td>\n",
              "      <td>...</td>\n",
              "      <td>...</td>\n",
              "      <td>...</td>\n",
              "      <td>...</td>\n",
              "      <td>...</td>\n",
              "      <td>...</td>\n",
              "      <td>...</td>\n",
              "      <td>...</td>\n",
              "      <td>...</td>\n",
              "    </tr>\n",
              "    <tr>\n",
              "      <th>1677</th>\n",
              "      <td>1678</td>\n",
              "      <td>Mat' i syn (1997)</td>\n",
              "      <td>06-Feb-1998</td>\n",
              "      <td>NaN</td>\n",
              "      <td>http://us.imdb.com/M/title-exact?Mat%27+i+syn+...</td>\n",
              "      <td>0</td>\n",
              "      <td>0</td>\n",
              "      <td>0</td>\n",
              "      <td>0</td>\n",
              "      <td>0</td>\n",
              "      <td>0</td>\n",
              "      <td>0</td>\n",
              "      <td>0</td>\n",
              "      <td>1</td>\n",
              "      <td>0</td>\n",
              "      <td>0</td>\n",
              "      <td>0</td>\n",
              "      <td>0</td>\n",
              "      <td>0</td>\n",
              "      <td>0</td>\n",
              "      <td>0</td>\n",
              "      <td>0</td>\n",
              "      <td>0</td>\n",
              "      <td>0</td>\n",
              "    </tr>\n",
              "    <tr>\n",
              "      <th>1678</th>\n",
              "      <td>1679</td>\n",
              "      <td>B. Monkey (1998)</td>\n",
              "      <td>06-Feb-1998</td>\n",
              "      <td>NaN</td>\n",
              "      <td>http://us.imdb.com/M/title-exact?B%2E+Monkey+(...</td>\n",
              "      <td>0</td>\n",
              "      <td>0</td>\n",
              "      <td>0</td>\n",
              "      <td>0</td>\n",
              "      <td>0</td>\n",
              "      <td>0</td>\n",
              "      <td>0</td>\n",
              "      <td>0</td>\n",
              "      <td>0</td>\n",
              "      <td>0</td>\n",
              "      <td>0</td>\n",
              "      <td>0</td>\n",
              "      <td>0</td>\n",
              "      <td>0</td>\n",
              "      <td>1</td>\n",
              "      <td>0</td>\n",
              "      <td>1</td>\n",
              "      <td>0</td>\n",
              "      <td>0</td>\n",
              "    </tr>\n",
              "    <tr>\n",
              "      <th>1679</th>\n",
              "      <td>1680</td>\n",
              "      <td>Sliding Doors (1998)</td>\n",
              "      <td>01-Jan-1998</td>\n",
              "      <td>NaN</td>\n",
              "      <td>http://us.imdb.com/Title?Sliding+Doors+(1998)</td>\n",
              "      <td>0</td>\n",
              "      <td>0</td>\n",
              "      <td>0</td>\n",
              "      <td>0</td>\n",
              "      <td>0</td>\n",
              "      <td>0</td>\n",
              "      <td>0</td>\n",
              "      <td>0</td>\n",
              "      <td>1</td>\n",
              "      <td>0</td>\n",
              "      <td>0</td>\n",
              "      <td>0</td>\n",
              "      <td>0</td>\n",
              "      <td>0</td>\n",
              "      <td>1</td>\n",
              "      <td>0</td>\n",
              "      <td>0</td>\n",
              "      <td>0</td>\n",
              "      <td>0</td>\n",
              "    </tr>\n",
              "    <tr>\n",
              "      <th>1680</th>\n",
              "      <td>1681</td>\n",
              "      <td>You So Crazy (1994)</td>\n",
              "      <td>01-Jan-1994</td>\n",
              "      <td>NaN</td>\n",
              "      <td>http://us.imdb.com/M/title-exact?You%20So%20Cr...</td>\n",
              "      <td>0</td>\n",
              "      <td>0</td>\n",
              "      <td>0</td>\n",
              "      <td>0</td>\n",
              "      <td>0</td>\n",
              "      <td>1</td>\n",
              "      <td>0</td>\n",
              "      <td>0</td>\n",
              "      <td>0</td>\n",
              "      <td>0</td>\n",
              "      <td>0</td>\n",
              "      <td>0</td>\n",
              "      <td>0</td>\n",
              "      <td>0</td>\n",
              "      <td>0</td>\n",
              "      <td>0</td>\n",
              "      <td>0</td>\n",
              "      <td>0</td>\n",
              "      <td>0</td>\n",
              "    </tr>\n",
              "    <tr>\n",
              "      <th>1681</th>\n",
              "      <td>1682</td>\n",
              "      <td>Scream of Stone (Schrei aus Stein) (1991)</td>\n",
              "      <td>08-Mar-1996</td>\n",
              "      <td>NaN</td>\n",
              "      <td>http://us.imdb.com/M/title-exact?Schrei%20aus%...</td>\n",
              "      <td>0</td>\n",
              "      <td>0</td>\n",
              "      <td>0</td>\n",
              "      <td>0</td>\n",
              "      <td>0</td>\n",
              "      <td>0</td>\n",
              "      <td>0</td>\n",
              "      <td>0</td>\n",
              "      <td>1</td>\n",
              "      <td>0</td>\n",
              "      <td>0</td>\n",
              "      <td>0</td>\n",
              "      <td>0</td>\n",
              "      <td>0</td>\n",
              "      <td>0</td>\n",
              "      <td>0</td>\n",
              "      <td>0</td>\n",
              "      <td>0</td>\n",
              "      <td>0</td>\n",
              "    </tr>\n",
              "  </tbody>\n",
              "</table>\n",
              "<p>1682 rows × 24 columns</p>\n",
              "</div>"
            ],
            "text/plain": [
              "      movie id                                movie title  ... War  Western\n",
              "0            1                           Toy Story (1995)  ...   0        0\n",
              "1            2                           GoldenEye (1995)  ...   0        0\n",
              "2            3                          Four Rooms (1995)  ...   0        0\n",
              "3            4                          Get Shorty (1995)  ...   0        0\n",
              "4            5                             Copycat (1995)  ...   0        0\n",
              "...        ...                                        ...  ...  ..      ...\n",
              "1677      1678                          Mat' i syn (1997)  ...   0        0\n",
              "1678      1679                           B. Monkey (1998)  ...   0        0\n",
              "1679      1680                       Sliding Doors (1998)  ...   0        0\n",
              "1680      1681                        You So Crazy (1994)  ...   0        0\n",
              "1681      1682  Scream of Stone (Schrei aus Stein) (1991)  ...   0        0\n",
              "\n",
              "[1682 rows x 24 columns]"
            ]
          },
          "metadata": {
            "tags": []
          },
          "execution_count": 9
        }
      ]
    },
    {
      "cell_type": "code",
      "metadata": {
        "id": "7tB4z-ZGNp3O",
        "outputId": "8e83ce0b-737d-48b5-e4d6-0dccd77d3ab8",
        "colab": {
          "base_uri": "https://localhost:8080/",
          "height": 204
        }
      },
      "source": [
        "movie_dataset = items_dataset[['movie id','movie title']]\n",
        "movie_dataset.head()"
      ],
      "execution_count": null,
      "outputs": [
        {
          "output_type": "execute_result",
          "data": {
            "text/html": [
              "<div>\n",
              "<style scoped>\n",
              "    .dataframe tbody tr th:only-of-type {\n",
              "        vertical-align: middle;\n",
              "    }\n",
              "\n",
              "    .dataframe tbody tr th {\n",
              "        vertical-align: top;\n",
              "    }\n",
              "\n",
              "    .dataframe thead th {\n",
              "        text-align: right;\n",
              "    }\n",
              "</style>\n",
              "<table border=\"1\" class=\"dataframe\">\n",
              "  <thead>\n",
              "    <tr style=\"text-align: right;\">\n",
              "      <th></th>\n",
              "      <th>movie id</th>\n",
              "      <th>movie title</th>\n",
              "    </tr>\n",
              "  </thead>\n",
              "  <tbody>\n",
              "    <tr>\n",
              "      <th>0</th>\n",
              "      <td>1</td>\n",
              "      <td>Toy Story (1995)</td>\n",
              "    </tr>\n",
              "    <tr>\n",
              "      <th>1</th>\n",
              "      <td>2</td>\n",
              "      <td>GoldenEye (1995)</td>\n",
              "    </tr>\n",
              "    <tr>\n",
              "      <th>2</th>\n",
              "      <td>3</td>\n",
              "      <td>Four Rooms (1995)</td>\n",
              "    </tr>\n",
              "    <tr>\n",
              "      <th>3</th>\n",
              "      <td>4</td>\n",
              "      <td>Get Shorty (1995)</td>\n",
              "    </tr>\n",
              "    <tr>\n",
              "      <th>4</th>\n",
              "      <td>5</td>\n",
              "      <td>Copycat (1995)</td>\n",
              "    </tr>\n",
              "  </tbody>\n",
              "</table>\n",
              "</div>"
            ],
            "text/plain": [
              "   movie id        movie title\n",
              "0         1   Toy Story (1995)\n",
              "1         2   GoldenEye (1995)\n",
              "2         3  Four Rooms (1995)\n",
              "3         4  Get Shorty (1995)\n",
              "4         5     Copycat (1995)"
            ]
          },
          "metadata": {
            "tags": []
          },
          "execution_count": 10
        }
      ]
    },
    {
      "cell_type": "markdown",
      "metadata": {
        "id": "uKus60hs-axf"
      },
      "source": [
        "## Merging required datasets"
      ]
    },
    {
      "cell_type": "code",
      "metadata": {
        "id": "l3jlxk2aVW9l",
        "outputId": "64a68706-89ed-4bfc-d08a-b0ddf744a811",
        "colab": {
          "base_uri": "https://localhost:8080/",
          "height": 204
        }
      },
      "source": [
        "merged_dataset = pd.merge(dataset, movie_dataset, how='inner', on='movie id')\n",
        "merged_dataset.head()"
      ],
      "execution_count": null,
      "outputs": [
        {
          "output_type": "execute_result",
          "data": {
            "text/html": [
              "<div>\n",
              "<style scoped>\n",
              "    .dataframe tbody tr th:only-of-type {\n",
              "        vertical-align: middle;\n",
              "    }\n",
              "\n",
              "    .dataframe tbody tr th {\n",
              "        vertical-align: top;\n",
              "    }\n",
              "\n",
              "    .dataframe thead th {\n",
              "        text-align: right;\n",
              "    }\n",
              "</style>\n",
              "<table border=\"1\" class=\"dataframe\">\n",
              "  <thead>\n",
              "    <tr style=\"text-align: right;\">\n",
              "      <th></th>\n",
              "      <th>user id</th>\n",
              "      <th>movie id</th>\n",
              "      <th>rating</th>\n",
              "      <th>timestamp</th>\n",
              "      <th>movie title</th>\n",
              "    </tr>\n",
              "  </thead>\n",
              "  <tbody>\n",
              "    <tr>\n",
              "      <th>0</th>\n",
              "      <td>196</td>\n",
              "      <td>242</td>\n",
              "      <td>3</td>\n",
              "      <td>881250949</td>\n",
              "      <td>Kolya (1996)</td>\n",
              "    </tr>\n",
              "    <tr>\n",
              "      <th>1</th>\n",
              "      <td>63</td>\n",
              "      <td>242</td>\n",
              "      <td>3</td>\n",
              "      <td>875747190</td>\n",
              "      <td>Kolya (1996)</td>\n",
              "    </tr>\n",
              "    <tr>\n",
              "      <th>2</th>\n",
              "      <td>226</td>\n",
              "      <td>242</td>\n",
              "      <td>5</td>\n",
              "      <td>883888671</td>\n",
              "      <td>Kolya (1996)</td>\n",
              "    </tr>\n",
              "    <tr>\n",
              "      <th>3</th>\n",
              "      <td>154</td>\n",
              "      <td>242</td>\n",
              "      <td>3</td>\n",
              "      <td>879138235</td>\n",
              "      <td>Kolya (1996)</td>\n",
              "    </tr>\n",
              "    <tr>\n",
              "      <th>4</th>\n",
              "      <td>306</td>\n",
              "      <td>242</td>\n",
              "      <td>5</td>\n",
              "      <td>876503793</td>\n",
              "      <td>Kolya (1996)</td>\n",
              "    </tr>\n",
              "  </tbody>\n",
              "</table>\n",
              "</div>"
            ],
            "text/plain": [
              "   user id  movie id  rating  timestamp   movie title\n",
              "0      196       242       3  881250949  Kolya (1996)\n",
              "1       63       242       3  875747190  Kolya (1996)\n",
              "2      226       242       5  883888671  Kolya (1996)\n",
              "3      154       242       3  879138235  Kolya (1996)\n",
              "4      306       242       5  876503793  Kolya (1996)"
            ]
          },
          "metadata": {
            "tags": []
          },
          "execution_count": 11
        }
      ]
    },
    {
      "cell_type": "code",
      "metadata": {
        "id": "UJAxMMi1bmNi",
        "outputId": "eb33d1fa-2316-4930-cec0-0a53e1c4717f",
        "colab": {
          "base_uri": "https://localhost:8080/",
          "height": 297
        }
      },
      "source": [
        "merged_dataset.describe()"
      ],
      "execution_count": null,
      "outputs": [
        {
          "output_type": "execute_result",
          "data": {
            "text/html": [
              "<div>\n",
              "<style scoped>\n",
              "    .dataframe tbody tr th:only-of-type {\n",
              "        vertical-align: middle;\n",
              "    }\n",
              "\n",
              "    .dataframe tbody tr th {\n",
              "        vertical-align: top;\n",
              "    }\n",
              "\n",
              "    .dataframe thead th {\n",
              "        text-align: right;\n",
              "    }\n",
              "</style>\n",
              "<table border=\"1\" class=\"dataframe\">\n",
              "  <thead>\n",
              "    <tr style=\"text-align: right;\">\n",
              "      <th></th>\n",
              "      <th>user id</th>\n",
              "      <th>movie id</th>\n",
              "      <th>rating</th>\n",
              "      <th>timestamp</th>\n",
              "    </tr>\n",
              "  </thead>\n",
              "  <tbody>\n",
              "    <tr>\n",
              "      <th>count</th>\n",
              "      <td>100000.00000</td>\n",
              "      <td>100000.000000</td>\n",
              "      <td>100000.000000</td>\n",
              "      <td>1.000000e+05</td>\n",
              "    </tr>\n",
              "    <tr>\n",
              "      <th>mean</th>\n",
              "      <td>462.48475</td>\n",
              "      <td>425.530130</td>\n",
              "      <td>3.529860</td>\n",
              "      <td>8.835289e+08</td>\n",
              "    </tr>\n",
              "    <tr>\n",
              "      <th>std</th>\n",
              "      <td>266.61442</td>\n",
              "      <td>330.798356</td>\n",
              "      <td>1.125674</td>\n",
              "      <td>5.343856e+06</td>\n",
              "    </tr>\n",
              "    <tr>\n",
              "      <th>min</th>\n",
              "      <td>1.00000</td>\n",
              "      <td>1.000000</td>\n",
              "      <td>1.000000</td>\n",
              "      <td>8.747247e+08</td>\n",
              "    </tr>\n",
              "    <tr>\n",
              "      <th>25%</th>\n",
              "      <td>254.00000</td>\n",
              "      <td>175.000000</td>\n",
              "      <td>3.000000</td>\n",
              "      <td>8.794487e+08</td>\n",
              "    </tr>\n",
              "    <tr>\n",
              "      <th>50%</th>\n",
              "      <td>447.00000</td>\n",
              "      <td>322.000000</td>\n",
              "      <td>4.000000</td>\n",
              "      <td>8.828269e+08</td>\n",
              "    </tr>\n",
              "    <tr>\n",
              "      <th>75%</th>\n",
              "      <td>682.00000</td>\n",
              "      <td>631.000000</td>\n",
              "      <td>4.000000</td>\n",
              "      <td>8.882600e+08</td>\n",
              "    </tr>\n",
              "    <tr>\n",
              "      <th>max</th>\n",
              "      <td>943.00000</td>\n",
              "      <td>1682.000000</td>\n",
              "      <td>5.000000</td>\n",
              "      <td>8.932866e+08</td>\n",
              "    </tr>\n",
              "  </tbody>\n",
              "</table>\n",
              "</div>"
            ],
            "text/plain": [
              "            user id       movie id         rating     timestamp\n",
              "count  100000.00000  100000.000000  100000.000000  1.000000e+05\n",
              "mean      462.48475     425.530130       3.529860  8.835289e+08\n",
              "std       266.61442     330.798356       1.125674  5.343856e+06\n",
              "min         1.00000       1.000000       1.000000  8.747247e+08\n",
              "25%       254.00000     175.000000       3.000000  8.794487e+08\n",
              "50%       447.00000     322.000000       4.000000  8.828269e+08\n",
              "75%       682.00000     631.000000       4.000000  8.882600e+08\n",
              "max       943.00000    1682.000000       5.000000  8.932866e+08"
            ]
          },
          "metadata": {
            "tags": []
          },
          "execution_count": 12
        }
      ]
    },
    {
      "cell_type": "markdown",
      "metadata": {
        "id": "8qYU51YO-fhs"
      },
      "source": [
        "## Data Visualization & Recommendations through Data Analysis for a new user (Content-based & Popularity based Recommender system)"
      ]
    },
    {
      "cell_type": "code",
      "metadata": {
        "id": "Q_tjBrrjdgOR",
        "outputId": "acedeec5-43c8-46ac-c2af-64a625676d2f",
        "colab": {
          "base_uri": "https://localhost:8080/",
          "height": 404
        }
      },
      "source": [
        "merged_dataset['rating'].value_counts(sort=False).plot(kind='bar' ,figsize=(10,6), use_index = True, rot=0)\n",
        "plt.title('Bar plot of rating frequency')\n",
        "plt.xlabel('Rating')\n",
        "plt.ylabel('Number of times a rating was given')\n",
        "label = list(merged_dataset['rating'].value_counts(sort=False))\n",
        "r4 = [1,2,3,4,5]\n",
        "for i in range(len(label)):\n",
        "  plt.text(x = r4[i]-1.2 , y = label[i]+500, s = label[i], size =15)\n"
      ],
      "execution_count": null,
      "outputs": [
        {
          "output_type": "display_data",
          "data": {
            "image/png": "[encoded data removed]",
            "text/plain": [
              "<Figure size 720x432 with 1 Axes>"
            ]
          },
          "metadata": {
            "tags": [],
            "needs_background": "light"
          }
        }
      ]
    },
    {
      "cell_type": "markdown",
      "metadata": {
        "id": "ddCUhcSekW3A"
      },
      "source": [
        "We can observe that most of the users have rewarded movies they watched with a 4 star rating and followed by 3 star and 5 star."
      ]
    },
    {
      "cell_type": "code",
      "metadata": {
        "id": "8JVGzz1rd_Ex"
      },
      "source": [
        "avg_highly_rated_movies = merged_dataset.groupby(['movie title']).agg({\"rating\":\"mean\"})['rating'].sort_values(ascending=False)\n",
        "avg_highly_rated_movies = avg_highly_rated_movies.to_frame()"
      ],
      "execution_count": null,
      "outputs": []
    },
    {
      "cell_type": "code",
      "metadata": {
        "id": "QajiCkKfq5Bi",
        "outputId": "3f5c2a6d-4655-458f-8ad9-e2e0c5306cda",
        "colab": {
          "base_uri": "https://localhost:8080/",
          "height": 700
        }
      },
      "source": [
        "avg_highly_rated_movies.head(20)"
      ],
      "execution_count": null,
      "outputs": [
        {
          "output_type": "execute_result",
          "data": {
            "text/html": [
              "<div>\n",
              "<style scoped>\n",
              "    .dataframe tbody tr th:only-of-type {\n",
              "        vertical-align: middle;\n",
              "    }\n",
              "\n",
              "    .dataframe tbody tr th {\n",
              "        vertical-align: top;\n",
              "    }\n",
              "\n",
              "    .dataframe thead th {\n",
              "        text-align: right;\n",
              "    }\n",
              "</style>\n",
              "<table border=\"1\" class=\"dataframe\">\n",
              "  <thead>\n",
              "    <tr style=\"text-align: right;\">\n",
              "      <th></th>\n",
              "      <th>rating</th>\n",
              "    </tr>\n",
              "    <tr>\n",
              "      <th>movie title</th>\n",
              "      <th></th>\n",
              "    </tr>\n",
              "  </thead>\n",
              "  <tbody>\n",
              "    <tr>\n",
              "      <th>Marlene Dietrich: Shadow and Light (1996)</th>\n",
              "      <td>5.000000</td>\n",
              "    </tr>\n",
              "    <tr>\n",
              "      <th>Prefontaine (1997)</th>\n",
              "      <td>5.000000</td>\n",
              "    </tr>\n",
              "    <tr>\n",
              "      <th>Santa with Muscles (1996)</th>\n",
              "      <td>5.000000</td>\n",
              "    </tr>\n",
              "    <tr>\n",
              "      <th>Star Kid (1997)</th>\n",
              "      <td>5.000000</td>\n",
              "    </tr>\n",
              "    <tr>\n",
              "      <th>Someone Else's America (1995)</th>\n",
              "      <td>5.000000</td>\n",
              "    </tr>\n",
              "    <tr>\n",
              "      <th>Entertaining Angels: The Dorothy Day Story (1996)</th>\n",
              "      <td>5.000000</td>\n",
              "    </tr>\n",
              "    <tr>\n",
              "      <th>Saint of Fort Washington, The (1993)</th>\n",
              "      <td>5.000000</td>\n",
              "    </tr>\n",
              "    <tr>\n",
              "      <th>Great Day in Harlem, A (1994)</th>\n",
              "      <td>5.000000</td>\n",
              "    </tr>\n",
              "    <tr>\n",
              "      <th>They Made Me a Criminal (1939)</th>\n",
              "      <td>5.000000</td>\n",
              "    </tr>\n",
              "    <tr>\n",
              "      <th>Aiqing wansui (1994)</th>\n",
              "      <td>5.000000</td>\n",
              "    </tr>\n",
              "    <tr>\n",
              "      <th>Pather Panchali (1955)</th>\n",
              "      <td>4.625000</td>\n",
              "    </tr>\n",
              "    <tr>\n",
              "      <th>Anna (1996)</th>\n",
              "      <td>4.500000</td>\n",
              "    </tr>\n",
              "    <tr>\n",
              "      <th>Everest (1998)</th>\n",
              "      <td>4.500000</td>\n",
              "    </tr>\n",
              "    <tr>\n",
              "      <th>Maya Lin: A Strong Clear Vision (1994)</th>\n",
              "      <td>4.500000</td>\n",
              "    </tr>\n",
              "    <tr>\n",
              "      <th>Some Mother's Son (1996)</th>\n",
              "      <td>4.500000</td>\n",
              "    </tr>\n",
              "    <tr>\n",
              "      <th>Close Shave, A (1995)</th>\n",
              "      <td>4.491071</td>\n",
              "    </tr>\n",
              "    <tr>\n",
              "      <th>Schindler's List (1993)</th>\n",
              "      <td>4.466443</td>\n",
              "    </tr>\n",
              "    <tr>\n",
              "      <th>Wrong Trousers, The (1993)</th>\n",
              "      <td>4.466102</td>\n",
              "    </tr>\n",
              "    <tr>\n",
              "      <th>Casablanca (1942)</th>\n",
              "      <td>4.456790</td>\n",
              "    </tr>\n",
              "    <tr>\n",
              "      <th>Wallace &amp; Gromit: The Best of Aardman Animation (1996)</th>\n",
              "      <td>4.447761</td>\n",
              "    </tr>\n",
              "  </tbody>\n",
              "</table>\n",
              "</div>"
            ],
            "text/plain": [
              "                                                      rating\n",
              "movie title                                                 \n",
              "Marlene Dietrich: Shadow and Light (1996)           5.000000\n",
              "Prefontaine (1997)                                  5.000000\n",
              "Santa with Muscles (1996)                           5.000000\n",
              "Star Kid (1997)                                     5.000000\n",
              "Someone Else's America (1995)                       5.000000\n",
              "Entertaining Angels: The Dorothy Day Story (1996)   5.000000\n",
              "Saint of Fort Washington, The (1993)                5.000000\n",
              "Great Day in Harlem, A (1994)                       5.000000\n",
              "They Made Me a Criminal (1939)                      5.000000\n",
              "Aiqing wansui (1994)                                5.000000\n",
              "Pather Panchali (1955)                              4.625000\n",
              "Anna (1996)                                         4.500000\n",
              "Everest (1998)                                      4.500000\n",
              "Maya Lin: A Strong Clear Vision (1994)              4.500000\n",
              "Some Mother's Son (1996)                            4.500000\n",
              "Close Shave, A (1995)                               4.491071\n",
              "Schindler's List (1993)                             4.466443\n",
              "Wrong Trousers, The (1993)                          4.466102\n",
              "Casablanca (1942)                                   4.456790\n",
              "Wallace & Gromit: The Best of Aardman Animation...  4.447761"
            ]
          },
          "metadata": {
            "tags": []
          },
          "execution_count": 15
        }
      ]
    },
    {
      "cell_type": "code",
      "metadata": {
        "id": "I5U5xzYnsA9e",
        "outputId": "fd0474ba-4489-468c-e71d-8d875e3533ea",
        "colab": {
          "base_uri": "https://localhost:8080/",
          "height": 119
        }
      },
      "source": [
        "print(\"Number of movies with 5 star rating on average: \",len(avg_highly_rated_movies[avg_highly_rated_movies['rating'] == 5.0]))\n",
        "print(\"Number of movies with above 4 star and below 5 star rating on average: \",len(avg_highly_rated_movies[(avg_highly_rated_movies['rating'] >= 4.0) & (avg_highly_rated_movies['rating'] < 5.0)]))\n",
        "print(\"Number of movies with above 3 star and below 4 star rating on average: \",len(avg_highly_rated_movies[(avg_highly_rated_movies['rating'] >= 3.0) & (avg_highly_rated_movies['rating'] < 4.0)]))\n",
        "print(\"Number of movies with above 2 star and below 3 star rating on average: \",len(avg_highly_rated_movies[(avg_highly_rated_movies['rating'] >= 2.0) & (avg_highly_rated_movies['rating'] < 3.0)]))\n",
        "print(\"Number of movies with above 1 star and below 2 star rating on average: \",len(avg_highly_rated_movies[(avg_highly_rated_movies['rating'] >= 1.0) & (avg_highly_rated_movies['rating'] < 2.0)]))\n",
        "print(\"Number of movies with below 1 star rating on average: \", len(avg_highly_rated_movies[(avg_highly_rated_movies['rating'] < 1.0)]))\n"
      ],
      "execution_count": null,
      "outputs": [
        {
          "output_type": "stream",
          "text": [
            "Number of movies with 5 star rating on average:  10\n",
            "Number of movies with above 4 star and below 5 star rating on average:  163\n",
            "Number of movies with above 3 star and below 4 star rating on average:  871\n",
            "Number of movies with above 2 star and below 3 star rating on average:  492\n",
            "Number of movies with above 1 star and below 2 star rating on average:  128\n",
            "Number of movies with below 1 star rating on average:  0\n"
          ],
          "name": "stdout"
        }
      ]
    },
    {
      "cell_type": "markdown",
      "metadata": {
        "id": "wqDuh9tOwQN1"
      },
      "source": [
        "We can look at number of movies between each range of average ratings:  \n",
        "if  \n",
        "rating ==5.0 : 10;  \n",
        "4<= rating <5: 163;  \n",
        "3<= rating <4: 871;    \n",
        "2<= rating <3: 492;  \n",
        "1<= rating <2: 128;\n"
      ]
    },
    {
      "cell_type": "code",
      "metadata": {
        "id": "7VNSqthl_2kU",
        "outputId": "ec045f0d-207a-49c2-b98c-ef3ba08754de",
        "colab": {
          "base_uri": "https://localhost:8080/",
          "height": 270
        }
      },
      "source": [
        "import matplotlib.pyplot as plt\n",
        "print('Split of movies count based on their overall average rating')\n",
        "# Pie chart, where the slices will be ordered and plotted counter-clockwise:\n",
        "labels = '5 star', '4 to 5 star', '3 to 4 star', '2 to 3 star', '1 to 2 star'\n",
        "sizes = [10, 163, 871, 492, 128]\n",
        "# explode = (0, 0.1, 0, 0)  # only \"explode\" the 2nd slice (i.e. 'Hogs')\n",
        "\n",
        "fig1, ax1 = plt.subplots()\n",
        "ax1.pie(sizes, labels=labels, autopct='%1.1f%%',\n",
        "        shadow=True, startangle=90)\n",
        "ax1.axis('equal')  # Equal aspect ratio ensures that pie is drawn as a circle.\n",
        "\n",
        "plt.show()\n"
      ],
      "execution_count": null,
      "outputs": [
        {
          "output_type": "stream",
          "text": [
            "Split of movies count based on their overall average rating\n"
          ],
          "name": "stdout"
        },
        {
          "output_type": "display_data",
          "data": {
            "image/png": "[encoded data removed]",
            "text/plain": [
              "<Figure size 432x288 with 1 Axes>"
            ]
          },
          "metadata": {
            "tags": []
          }
        }
      ]
    },
    {
      "cell_type": "code",
      "metadata": {
        "id": "zZOCXhY4zhIC"
      },
      "source": [
        "avg_highly_rated_movies.reset_index(level=0, inplace=True)"
      ],
      "execution_count": null,
      "outputs": []
    },
    {
      "cell_type": "code",
      "metadata": {
        "id": "5wHFoMWfti41",
        "outputId": "9f9ada96-218c-4811-b20a-dface04ed64b",
        "colab": {
          "base_uri": "https://localhost:8080/",
          "height": 359
        }
      },
      "source": [
        "avg_highly_rated_movies.columns = ['movie title', 'avg rating']\n",
        "\n",
        "avg_highly_rated_movies.head(10)"
      ],
      "execution_count": null,
      "outputs": [
        {
          "output_type": "execute_result",
          "data": {
            "text/html": [
              "<div>\n",
              "<style scoped>\n",
              "    .dataframe tbody tr th:only-of-type {\n",
              "        vertical-align: middle;\n",
              "    }\n",
              "\n",
              "    .dataframe tbody tr th {\n",
              "        vertical-align: top;\n",
              "    }\n",
              "\n",
              "    .dataframe thead th {\n",
              "        text-align: right;\n",
              "    }\n",
              "</style>\n",
              "<table border=\"1\" class=\"dataframe\">\n",
              "  <thead>\n",
              "    <tr style=\"text-align: right;\">\n",
              "      <th></th>\n",
              "      <th>movie title</th>\n",
              "      <th>avg rating</th>\n",
              "    </tr>\n",
              "  </thead>\n",
              "  <tbody>\n",
              "    <tr>\n",
              "      <th>0</th>\n",
              "      <td>Marlene Dietrich: Shadow and Light (1996)</td>\n",
              "      <td>5.0</td>\n",
              "    </tr>\n",
              "    <tr>\n",
              "      <th>1</th>\n",
              "      <td>Prefontaine (1997)</td>\n",
              "      <td>5.0</td>\n",
              "    </tr>\n",
              "    <tr>\n",
              "      <th>2</th>\n",
              "      <td>Santa with Muscles (1996)</td>\n",
              "      <td>5.0</td>\n",
              "    </tr>\n",
              "    <tr>\n",
              "      <th>3</th>\n",
              "      <td>Star Kid (1997)</td>\n",
              "      <td>5.0</td>\n",
              "    </tr>\n",
              "    <tr>\n",
              "      <th>4</th>\n",
              "      <td>Someone Else's America (1995)</td>\n",
              "      <td>5.0</td>\n",
              "    </tr>\n",
              "    <tr>\n",
              "      <th>5</th>\n",
              "      <td>Entertaining Angels: The Dorothy Day Story (1996)</td>\n",
              "      <td>5.0</td>\n",
              "    </tr>\n",
              "    <tr>\n",
              "      <th>6</th>\n",
              "      <td>Saint of Fort Washington, The (1993)</td>\n",
              "      <td>5.0</td>\n",
              "    </tr>\n",
              "    <tr>\n",
              "      <th>7</th>\n",
              "      <td>Great Day in Harlem, A (1994)</td>\n",
              "      <td>5.0</td>\n",
              "    </tr>\n",
              "    <tr>\n",
              "      <th>8</th>\n",
              "      <td>They Made Me a Criminal (1939)</td>\n",
              "      <td>5.0</td>\n",
              "    </tr>\n",
              "    <tr>\n",
              "      <th>9</th>\n",
              "      <td>Aiqing wansui (1994)</td>\n",
              "      <td>5.0</td>\n",
              "    </tr>\n",
              "  </tbody>\n",
              "</table>\n",
              "</div>"
            ],
            "text/plain": [
              "                                         movie title  avg rating\n",
              "0         Marlene Dietrich: Shadow and Light (1996)          5.0\n",
              "1                                 Prefontaine (1997)         5.0\n",
              "2                          Santa with Muscles (1996)         5.0\n",
              "3                                    Star Kid (1997)         5.0\n",
              "4                      Someone Else's America (1995)         5.0\n",
              "5  Entertaining Angels: The Dorothy Day Story (1996)         5.0\n",
              "6               Saint of Fort Washington, The (1993)         5.0\n",
              "7                      Great Day in Harlem, A (1994)         5.0\n",
              "8                     They Made Me a Criminal (1939)         5.0\n",
              "9                               Aiqing wansui (1994)         5.0"
            ]
          },
          "metadata": {
            "tags": []
          },
          "execution_count": 19
        }
      ]
    },
    {
      "cell_type": "markdown",
      "metadata": {
        "id": "dyYfsNRsz5f5"
      },
      "source": [
        "These are the top 10 movies that can be naviely suggested to the new users, **Recommendations based on top average ratings.**\n",
        "\n",
        "-----------------------------"
      ]
    },
    {
      "cell_type": "code",
      "metadata": {
        "id": "Peh1-b6uo01E",
        "outputId": "00c3f7f6-cee8-4cd9-dd91-6f0b2c94eb3a",
        "colab": {
          "base_uri": "https://localhost:8080/",
          "height": 238
        }
      },
      "source": [
        "merged_dataset.groupby(['movie title']).agg({\"rating\":\"sum\"})['rating'].sort_values(ascending=False)"
      ],
      "execution_count": null,
      "outputs": [
        {
          "output_type": "execute_result",
          "data": {
            "text/plain": [
              "movie title\n",
              "Star Wars (1977)                  2541\n",
              "Fargo (1996)                      2111\n",
              "Return of the Jedi (1983)         2032\n",
              "Contact (1997)                    1936\n",
              "Raiders of the Lost Ark (1981)    1786\n",
              "                                  ... \n",
              "Leopard Son, The (1996)              1\n",
              "Liebelei (1933)                      1\n",
              "Bird of Prey (1996)                  1\n",
              "Lotto Land (1995)                    1\n",
              "Daens (1992)                         1\n",
              "Name: rating, Length: 1664, dtype: int64"
            ]
          },
          "metadata": {
            "tags": []
          },
          "execution_count": 20
        }
      ]
    },
    {
      "cell_type": "code",
      "metadata": {
        "id": "F7ZJn-uKpdWU",
        "outputId": "e8797c10-4283-4a8a-ec1c-b76a022bbca0",
        "colab": {
          "base_uri": "https://localhost:8080/",
          "height": 421
        }
      },
      "source": [
        "merged_dataset['movie id'].value_counts(sort=False).plot(kind='bar' ,figsize=(20,6), use_index = True, rot=0)\n",
        "plt.title('Bar plot of frequency of a movie being watched')\n",
        "plt.xlabel('Movies')\n",
        "plt.ylabel('Number of times a user watched that movie')\n"
      ],
      "execution_count": null,
      "outputs": [
        {
          "output_type": "execute_result",
          "data": {
            "text/plain": [
              "Text(0, 0.5, 'Number of times a user watched that movie')"
            ]
          },
          "metadata": {
            "tags": []
          },
          "execution_count": 21
        },
        {
          "output_type": "display_data",
          "data": {
            "image/png": "[encoded data removed]",
            "text/plain": [
              "<Figure size 1440x432 with 1 Axes>"
            ]
          },
          "metadata": {
            "tags": [],
            "needs_background": "light"
          }
        }
      ]
    },
    {
      "cell_type": "markdown",
      "metadata": {
        "id": "moiyNVt4qWmN"
      },
      "source": [
        "We can see that very few movies were watched by more than 100 out of 943 users.\n",
        "\n",
        "--------------------------"
      ]
    },
    {
      "cell_type": "code",
      "metadata": {
        "id": "RagHlO7Disd8"
      },
      "source": [
        "popular_movies = merged_dataset.groupby(['movie title']).agg({\"rating\":\"count\"})['rating'].sort_values(ascending=False)\n"
      ],
      "execution_count": null,
      "outputs": []
    },
    {
      "cell_type": "code",
      "metadata": {
        "id": "DpJbtChW1nHy"
      },
      "source": [
        "popular_movies = popular_movies.to_frame()\n",
        "popular_movies.reset_index(level=0, inplace=True)\n",
        "popular_movies.columns = ['movie title', 'Number of Users watched']"
      ],
      "execution_count": null,
      "outputs": []
    },
    {
      "cell_type": "code",
      "metadata": {
        "id": "T-EaOu_v2hDo",
        "outputId": "3adf8cc3-66cd-43a2-b36d-20b991b40aec",
        "colab": {
          "base_uri": "https://localhost:8080/",
          "height": 119
        }
      },
      "source": [
        "print(\"Number of popular movies with more than 500 viewers: \",len(popular_movies[popular_movies['Number of Users watched'] >= 500]))\n",
        "print(\"Number of popular movies with more than 400 and less than 500 viewers: \",len(popular_movies[(popular_movies['Number of Users watched'] >= 400) & (popular_movies['Number of Users watched'] < 500)]))\n",
        "print(\"Number of popular movies with more than 300 and less than 400 viewers: \",len(popular_movies[(popular_movies['Number of Users watched'] >= 300) & (popular_movies['Number of Users watched'] < 400)]))\n",
        "print(\"Number of popular movies with more than 200 and less than 300 viewers: \",len(popular_movies[(popular_movies['Number of Users watched'] >= 200) & (popular_movies['Number of Users watched'] < 300)]))\n",
        "print(\"Number of popular movies with more than 100 and less than 200 viewers: \",len(popular_movies[(popular_movies['Number of Users watched'] >= 100) & (popular_movies['Number of Users watched'] < 200)]))\n",
        "print(\"Number of popular movies with less than 100 viewers: \", len(popular_movies[(popular_movies['Number of Users watched'] < 100)]))\n"
      ],
      "execution_count": null,
      "outputs": [
        {
          "output_type": "stream",
          "text": [
            "Number of popular movies with more than 500 viewers:  4\n",
            "Number of popular movies with more than 400 and less than 500 viewers:  8\n",
            "Number of popular movies with more than 300 and less than 400 viewers:  22\n",
            "Number of popular movies with more than 200 and less than 300 viewers:  84\n",
            "Number of popular movies with more than 100 and less than 200 viewers:  220\n",
            "Number of popular movies with less than 100 viewers:  1326\n"
          ],
          "name": "stdout"
        }
      ]
    },
    {
      "cell_type": "code",
      "metadata": {
        "id": "650SkeJKBspi",
        "outputId": "fb433772-b7c8-48c4-93e1-9c12f18e6654",
        "colab": {
          "base_uri": "https://localhost:8080/",
          "height": 303
        }
      },
      "source": [
        "\n",
        "df = pd.DataFrame({'viewers': [4, 8, 22, 84, 220, 1326]},\n",
        "                  index=['500 viewers', '400 to 500 viewers', '300 to 400 viewers', '200 to 300 viewers', '100 to 200 viewers', 'less than 100 viewers'])\n",
        "plot = df.plot.pie(y='viewers', figsize=(5, 5))\n"
      ],
      "execution_count": null,
      "outputs": [
        {
          "output_type": "display_data",
          "data": {
            "image/png": "[encoded data removed]",
            "text/plain": [
              "<Figure size 360x360 with 1 Axes>"
            ]
          },
          "metadata": {
            "tags": []
          }
        }
      ]
    },
    {
      "cell_type": "markdown",
      "metadata": {
        "id": "b71P43rd3sBA"
      },
      "source": [
        "We can consider the movies which have more than 400 viewers as **POPULAR** and there are 12 movies.\n",
        "\n",
        "-------------------------"
      ]
    },
    {
      "cell_type": "code",
      "metadata": {
        "id": "0Fehdsj82DF4",
        "outputId": "1aa6001c-c53c-477d-fabc-4dd2332d7d1d",
        "colab": {
          "base_uri": "https://localhost:8080/",
          "height": 421
        }
      },
      "source": [
        "popular_movies[popular_movies['Number of Users watched'] >= 400]"
      ],
      "execution_count": null,
      "outputs": [
        {
          "output_type": "execute_result",
          "data": {
            "text/html": [
              "<div>\n",
              "<style scoped>\n",
              "    .dataframe tbody tr th:only-of-type {\n",
              "        vertical-align: middle;\n",
              "    }\n",
              "\n",
              "    .dataframe tbody tr th {\n",
              "        vertical-align: top;\n",
              "    }\n",
              "\n",
              "    .dataframe thead th {\n",
              "        text-align: right;\n",
              "    }\n",
              "</style>\n",
              "<table border=\"1\" class=\"dataframe\">\n",
              "  <thead>\n",
              "    <tr style=\"text-align: right;\">\n",
              "      <th></th>\n",
              "      <th>movie title</th>\n",
              "      <th>Number of Users watched</th>\n",
              "    </tr>\n",
              "  </thead>\n",
              "  <tbody>\n",
              "    <tr>\n",
              "      <th>0</th>\n",
              "      <td>Star Wars (1977)</td>\n",
              "      <td>583</td>\n",
              "    </tr>\n",
              "    <tr>\n",
              "      <th>1</th>\n",
              "      <td>Contact (1997)</td>\n",
              "      <td>509</td>\n",
              "    </tr>\n",
              "    <tr>\n",
              "      <th>2</th>\n",
              "      <td>Fargo (1996)</td>\n",
              "      <td>508</td>\n",
              "    </tr>\n",
              "    <tr>\n",
              "      <th>3</th>\n",
              "      <td>Return of the Jedi (1983)</td>\n",
              "      <td>507</td>\n",
              "    </tr>\n",
              "    <tr>\n",
              "      <th>4</th>\n",
              "      <td>Liar Liar (1997)</td>\n",
              "      <td>485</td>\n",
              "    </tr>\n",
              "    <tr>\n",
              "      <th>5</th>\n",
              "      <td>English Patient, The (1996)</td>\n",
              "      <td>481</td>\n",
              "    </tr>\n",
              "    <tr>\n",
              "      <th>6</th>\n",
              "      <td>Scream (1996)</td>\n",
              "      <td>478</td>\n",
              "    </tr>\n",
              "    <tr>\n",
              "      <th>7</th>\n",
              "      <td>Toy Story (1995)</td>\n",
              "      <td>452</td>\n",
              "    </tr>\n",
              "    <tr>\n",
              "      <th>8</th>\n",
              "      <td>Air Force One (1997)</td>\n",
              "      <td>431</td>\n",
              "    </tr>\n",
              "    <tr>\n",
              "      <th>9</th>\n",
              "      <td>Independence Day (ID4) (1996)</td>\n",
              "      <td>429</td>\n",
              "    </tr>\n",
              "    <tr>\n",
              "      <th>10</th>\n",
              "      <td>Raiders of the Lost Ark (1981)</td>\n",
              "      <td>420</td>\n",
              "    </tr>\n",
              "    <tr>\n",
              "      <th>11</th>\n",
              "      <td>Godfather, The (1972)</td>\n",
              "      <td>413</td>\n",
              "    </tr>\n",
              "  </tbody>\n",
              "</table>\n",
              "</div>"
            ],
            "text/plain": [
              "                       movie title  Number of Users watched\n",
              "0                 Star Wars (1977)                      583\n",
              "1                   Contact (1997)                      509\n",
              "2                     Fargo (1996)                      508\n",
              "3        Return of the Jedi (1983)                      507\n",
              "4                 Liar Liar (1997)                      485\n",
              "5      English Patient, The (1996)                      481\n",
              "6                    Scream (1996)                      478\n",
              "7                 Toy Story (1995)                      452\n",
              "8             Air Force One (1997)                      431\n",
              "9    Independence Day (ID4) (1996)                      429\n",
              "10  Raiders of the Lost Ark (1981)                      420\n",
              "11           Godfather, The (1972)                      413"
            ]
          },
          "metadata": {
            "tags": []
          },
          "execution_count": 26
        }
      ]
    },
    {
      "cell_type": "markdown",
      "metadata": {
        "id": "pQcVlaTn4PQj"
      },
      "source": [
        "These are the most popular movies which can be recommended to a new user. **Recommendations based on Popularity**\n",
        "\n",
        "----------------------------"
      ]
    },
    {
      "cell_type": "code",
      "metadata": {
        "id": "aHp-8l0i2GRx",
        "outputId": "24638608-421b-457d-bc3c-031b1f874c4b",
        "colab": {
          "base_uri": "https://localhost:8080/",
          "height": 359
        }
      },
      "source": [
        "highly_rated_popular_movies = pd.merge(avg_highly_rated_movies, popular_movies, how = 'inner', on='movie title')\n",
        "highly_rated_popular_movies.head(10)"
      ],
      "execution_count": null,
      "outputs": [
        {
          "output_type": "execute_result",
          "data": {
            "text/html": [
              "<div>\n",
              "<style scoped>\n",
              "    .dataframe tbody tr th:only-of-type {\n",
              "        vertical-align: middle;\n",
              "    }\n",
              "\n",
              "    .dataframe tbody tr th {\n",
              "        vertical-align: top;\n",
              "    }\n",
              "\n",
              "    .dataframe thead th {\n",
              "        text-align: right;\n",
              "    }\n",
              "</style>\n",
              "<table border=\"1\" class=\"dataframe\">\n",
              "  <thead>\n",
              "    <tr style=\"text-align: right;\">\n",
              "      <th></th>\n",
              "      <th>movie title</th>\n",
              "      <th>avg rating</th>\n",
              "      <th>Number of Users watched</th>\n",
              "    </tr>\n",
              "  </thead>\n",
              "  <tbody>\n",
              "    <tr>\n",
              "      <th>0</th>\n",
              "      <td>Marlene Dietrich: Shadow and Light (1996)</td>\n",
              "      <td>5.0</td>\n",
              "      <td>1</td>\n",
              "    </tr>\n",
              "    <tr>\n",
              "      <th>1</th>\n",
              "      <td>Prefontaine (1997)</td>\n",
              "      <td>5.0</td>\n",
              "      <td>3</td>\n",
              "    </tr>\n",
              "    <tr>\n",
              "      <th>2</th>\n",
              "      <td>Santa with Muscles (1996)</td>\n",
              "      <td>5.0</td>\n",
              "      <td>2</td>\n",
              "    </tr>\n",
              "    <tr>\n",
              "      <th>3</th>\n",
              "      <td>Star Kid (1997)</td>\n",
              "      <td>5.0</td>\n",
              "      <td>3</td>\n",
              "    </tr>\n",
              "    <tr>\n",
              "      <th>4</th>\n",
              "      <td>Someone Else's America (1995)</td>\n",
              "      <td>5.0</td>\n",
              "      <td>1</td>\n",
              "    </tr>\n",
              "    <tr>\n",
              "      <th>5</th>\n",
              "      <td>Entertaining Angels: The Dorothy Day Story (1996)</td>\n",
              "      <td>5.0</td>\n",
              "      <td>1</td>\n",
              "    </tr>\n",
              "    <tr>\n",
              "      <th>6</th>\n",
              "      <td>Saint of Fort Washington, The (1993)</td>\n",
              "      <td>5.0</td>\n",
              "      <td>2</td>\n",
              "    </tr>\n",
              "    <tr>\n",
              "      <th>7</th>\n",
              "      <td>Great Day in Harlem, A (1994)</td>\n",
              "      <td>5.0</td>\n",
              "      <td>1</td>\n",
              "    </tr>\n",
              "    <tr>\n",
              "      <th>8</th>\n",
              "      <td>They Made Me a Criminal (1939)</td>\n",
              "      <td>5.0</td>\n",
              "      <td>1</td>\n",
              "    </tr>\n",
              "    <tr>\n",
              "      <th>9</th>\n",
              "      <td>Aiqing wansui (1994)</td>\n",
              "      <td>5.0</td>\n",
              "      <td>1</td>\n",
              "    </tr>\n",
              "  </tbody>\n",
              "</table>\n",
              "</div>"
            ],
            "text/plain": [
              "                                         movie title  ...  Number of Users watched\n",
              "0         Marlene Dietrich: Shadow and Light (1996)   ...                        1\n",
              "1                                 Prefontaine (1997)  ...                        3\n",
              "2                          Santa with Muscles (1996)  ...                        2\n",
              "3                                    Star Kid (1997)  ...                        3\n",
              "4                      Someone Else's America (1995)  ...                        1\n",
              "5  Entertaining Angels: The Dorothy Day Story (1996)  ...                        1\n",
              "6               Saint of Fort Washington, The (1993)  ...                        2\n",
              "7                      Great Day in Harlem, A (1994)  ...                        1\n",
              "8                     They Made Me a Criminal (1939)  ...                        1\n",
              "9                               Aiqing wansui (1994)  ...                        1\n",
              "\n",
              "[10 rows x 3 columns]"
            ]
          },
          "metadata": {
            "tags": []
          },
          "execution_count": 27
        }
      ]
    },
    {
      "cell_type": "code",
      "metadata": {
        "id": "F0PXjIWA7Vt1",
        "outputId": "95e8b529-79c8-4bc6-fd59-534f1601ccbb",
        "colab": {
          "base_uri": "https://localhost:8080/",
          "height": 421
        }
      },
      "source": [
        "highly_rated_popular_movies[highly_rated_popular_movies['Number of Users watched']>400]"
      ],
      "execution_count": null,
      "outputs": [
        {
          "output_type": "execute_result",
          "data": {
            "text/html": [
              "<div>\n",
              "<style scoped>\n",
              "    .dataframe tbody tr th:only-of-type {\n",
              "        vertical-align: middle;\n",
              "    }\n",
              "\n",
              "    .dataframe tbody tr th {\n",
              "        vertical-align: top;\n",
              "    }\n",
              "\n",
              "    .dataframe thead th {\n",
              "        text-align: right;\n",
              "    }\n",
              "</style>\n",
              "<table border=\"1\" class=\"dataframe\">\n",
              "  <thead>\n",
              "    <tr style=\"text-align: right;\">\n",
              "      <th></th>\n",
              "      <th>movie title</th>\n",
              "      <th>avg rating</th>\n",
              "      <th>Number of Users watched</th>\n",
              "    </tr>\n",
              "  </thead>\n",
              "  <tbody>\n",
              "    <tr>\n",
              "      <th>23</th>\n",
              "      <td>Star Wars (1977)</td>\n",
              "      <td>4.358491</td>\n",
              "      <td>583</td>\n",
              "    </tr>\n",
              "    <tr>\n",
              "      <th>34</th>\n",
              "      <td>Godfather, The (1972)</td>\n",
              "      <td>4.283293</td>\n",
              "      <td>413</td>\n",
              "    </tr>\n",
              "    <tr>\n",
              "      <th>40</th>\n",
              "      <td>Raiders of the Lost Ark (1981)</td>\n",
              "      <td>4.252381</td>\n",
              "      <td>420</td>\n",
              "    </tr>\n",
              "    <tr>\n",
              "      <th>64</th>\n",
              "      <td>Fargo (1996)</td>\n",
              "      <td>4.155512</td>\n",
              "      <td>508</td>\n",
              "    </tr>\n",
              "    <tr>\n",
              "      <th>129</th>\n",
              "      <td>Return of the Jedi (1983)</td>\n",
              "      <td>4.007890</td>\n",
              "      <td>507</td>\n",
              "    </tr>\n",
              "    <tr>\n",
              "      <th>236</th>\n",
              "      <td>Toy Story (1995)</td>\n",
              "      <td>3.878319</td>\n",
              "      <td>452</td>\n",
              "    </tr>\n",
              "    <tr>\n",
              "      <th>292</th>\n",
              "      <td>Contact (1997)</td>\n",
              "      <td>3.803536</td>\n",
              "      <td>509</td>\n",
              "    </tr>\n",
              "    <tr>\n",
              "      <th>412</th>\n",
              "      <td>English Patient, The (1996)</td>\n",
              "      <td>3.656965</td>\n",
              "      <td>481</td>\n",
              "    </tr>\n",
              "    <tr>\n",
              "      <th>428</th>\n",
              "      <td>Air Force One (1997)</td>\n",
              "      <td>3.631090</td>\n",
              "      <td>431</td>\n",
              "    </tr>\n",
              "    <tr>\n",
              "      <th>597</th>\n",
              "      <td>Scream (1996)</td>\n",
              "      <td>3.441423</td>\n",
              "      <td>478</td>\n",
              "    </tr>\n",
              "    <tr>\n",
              "      <th>598</th>\n",
              "      <td>Independence Day (ID4) (1996)</td>\n",
              "      <td>3.438228</td>\n",
              "      <td>429</td>\n",
              "    </tr>\n",
              "    <tr>\n",
              "      <th>837</th>\n",
              "      <td>Liar Liar (1997)</td>\n",
              "      <td>3.156701</td>\n",
              "      <td>485</td>\n",
              "    </tr>\n",
              "  </tbody>\n",
              "</table>\n",
              "</div>"
            ],
            "text/plain": [
              "                        movie title  avg rating  Number of Users watched\n",
              "23                 Star Wars (1977)    4.358491                      583\n",
              "34            Godfather, The (1972)    4.283293                      413\n",
              "40   Raiders of the Lost Ark (1981)    4.252381                      420\n",
              "64                     Fargo (1996)    4.155512                      508\n",
              "129       Return of the Jedi (1983)    4.007890                      507\n",
              "236                Toy Story (1995)    3.878319                      452\n",
              "292                  Contact (1997)    3.803536                      509\n",
              "412     English Patient, The (1996)    3.656965                      481\n",
              "428            Air Force One (1997)    3.631090                      431\n",
              "597                   Scream (1996)    3.441423                      478\n",
              "598   Independence Day (ID4) (1996)    3.438228                      429\n",
              "837                Liar Liar (1997)    3.156701                      485"
            ]
          },
          "metadata": {
            "tags": []
          },
          "execution_count": 28
        }
      ]
    },
    {
      "cell_type": "code",
      "metadata": {
        "id": "h7dmoDb-567R",
        "outputId": "e190d556-15e9-4580-dae0-d3c1111919b7",
        "colab": {
          "base_uri": "https://localhost:8080/",
          "height": 421
        }
      },
      "source": [
        "highly_rated_popular_movies[(highly_rated_popular_movies['Number of Users watched']>300) & (highly_rated_popular_movies['avg rating']>=4.0)]"
      ],
      "execution_count": null,
      "outputs": [
        {
          "output_type": "execute_result",
          "data": {
            "text/html": [
              "<div>\n",
              "<style scoped>\n",
              "    .dataframe tbody tr th:only-of-type {\n",
              "        vertical-align: middle;\n",
              "    }\n",
              "\n",
              "    .dataframe tbody tr th {\n",
              "        vertical-align: top;\n",
              "    }\n",
              "\n",
              "    .dataframe thead th {\n",
              "        text-align: right;\n",
              "    }\n",
              "</style>\n",
              "<table border=\"1\" class=\"dataframe\">\n",
              "  <thead>\n",
              "    <tr style=\"text-align: right;\">\n",
              "      <th></th>\n",
              "      <th>movie title</th>\n",
              "      <th>avg rating</th>\n",
              "      <th>Number of Users watched</th>\n",
              "    </tr>\n",
              "  </thead>\n",
              "  <tbody>\n",
              "    <tr>\n",
              "      <th>23</th>\n",
              "      <td>Star Wars (1977)</td>\n",
              "      <td>4.358491</td>\n",
              "      <td>583</td>\n",
              "    </tr>\n",
              "    <tr>\n",
              "      <th>32</th>\n",
              "      <td>Silence of the Lambs, The (1991)</td>\n",
              "      <td>4.289744</td>\n",
              "      <td>390</td>\n",
              "    </tr>\n",
              "    <tr>\n",
              "      <th>34</th>\n",
              "      <td>Godfather, The (1972)</td>\n",
              "      <td>4.283293</td>\n",
              "      <td>413</td>\n",
              "    </tr>\n",
              "    <tr>\n",
              "      <th>40</th>\n",
              "      <td>Raiders of the Lost Ark (1981)</td>\n",
              "      <td>4.252381</td>\n",
              "      <td>420</td>\n",
              "    </tr>\n",
              "    <tr>\n",
              "      <th>45</th>\n",
              "      <td>Titanic (1997)</td>\n",
              "      <td>4.245714</td>\n",
              "      <td>350</td>\n",
              "    </tr>\n",
              "    <tr>\n",
              "      <th>49</th>\n",
              "      <td>Empire Strikes Back, The (1980)</td>\n",
              "      <td>4.204360</td>\n",
              "      <td>367</td>\n",
              "    </tr>\n",
              "    <tr>\n",
              "      <th>61</th>\n",
              "      <td>Princess Bride, The (1987)</td>\n",
              "      <td>4.172840</td>\n",
              "      <td>324</td>\n",
              "    </tr>\n",
              "    <tr>\n",
              "      <th>64</th>\n",
              "      <td>Fargo (1996)</td>\n",
              "      <td>4.155512</td>\n",
              "      <td>508</td>\n",
              "    </tr>\n",
              "    <tr>\n",
              "      <th>98</th>\n",
              "      <td>Monty Python and the Holy Grail (1974)</td>\n",
              "      <td>4.066456</td>\n",
              "      <td>316</td>\n",
              "    </tr>\n",
              "    <tr>\n",
              "      <th>101</th>\n",
              "      <td>Pulp Fiction (1994)</td>\n",
              "      <td>4.060914</td>\n",
              "      <td>394</td>\n",
              "    </tr>\n",
              "    <tr>\n",
              "      <th>114</th>\n",
              "      <td>Fugitive, The (1993)</td>\n",
              "      <td>4.044643</td>\n",
              "      <td>336</td>\n",
              "    </tr>\n",
              "    <tr>\n",
              "      <th>129</th>\n",
              "      <td>Return of the Jedi (1983)</td>\n",
              "      <td>4.007890</td>\n",
              "      <td>507</td>\n",
              "    </tr>\n",
              "  </tbody>\n",
              "</table>\n",
              "</div>"
            ],
            "text/plain": [
              "                                movie title  ...  Number of Users watched\n",
              "23                         Star Wars (1977)  ...                      583\n",
              "32         Silence of the Lambs, The (1991)  ...                      390\n",
              "34                    Godfather, The (1972)  ...                      413\n",
              "40           Raiders of the Lost Ark (1981)  ...                      420\n",
              "45                           Titanic (1997)  ...                      350\n",
              "49          Empire Strikes Back, The (1980)  ...                      367\n",
              "61               Princess Bride, The (1987)  ...                      324\n",
              "64                             Fargo (1996)  ...                      508\n",
              "98   Monty Python and the Holy Grail (1974)  ...                      316\n",
              "101                     Pulp Fiction (1994)  ...                      394\n",
              "114                    Fugitive, The (1993)  ...                      336\n",
              "129               Return of the Jedi (1983)  ...                      507\n",
              "\n",
              "[12 rows x 3 columns]"
            ]
          },
          "metadata": {
            "tags": []
          },
          "execution_count": 29
        }
      ]
    },
    {
      "cell_type": "markdown",
      "metadata": {
        "id": "w-cVM7If7dRZ"
      },
      "source": [
        "These movies are the best to suggest to a new user as they are popular and well rated by the users who already watched them. These have rating more than 4 with atleast 300 viewers.\n",
        "\n",
        "**Recommendations based popularity and rating. These are top rated popular movies**\n",
        "\n",
        "----------------------------\n"
      ]
    },
    {
      "cell_type": "markdown",
      "metadata": {
        "id": "AAvexcTZDUtm"
      },
      "source": [
        "## Recommendations based on Movie Genre to a New User."
      ]
    },
    {
      "cell_type": "code",
      "metadata": {
        "id": "c3sMtrPbEhjk",
        "outputId": "25f6b200-0ec2-4e07-a33b-ad9af50ca329",
        "colab": {
          "base_uri": "https://localhost:8080/",
          "height": 340
        }
      },
      "source": [
        "movie_genre_list = column_names2[-19:]\n",
        "movie_genre_list"
      ],
      "execution_count": null,
      "outputs": [
        {
          "output_type": "execute_result",
          "data": {
            "text/plain": [
              "['unknown',\n",
              " 'Action',\n",
              " 'Adventure',\n",
              " 'Animation',\n",
              " 'Children',\n",
              " 'Comedy',\n",
              " 'Crime',\n",
              " 'Documentary',\n",
              " 'Drama',\n",
              " 'Fantasy',\n",
              " 'Film-Noir',\n",
              " 'Horror',\n",
              " 'Musical',\n",
              " 'Mystery',\n",
              " 'Romance',\n",
              " 'Sci-Fi',\n",
              " 'Thriller',\n",
              " 'War',\n",
              " 'Western']"
            ]
          },
          "metadata": {
            "tags": []
          },
          "execution_count": 30
        }
      ]
    },
    {
      "cell_type": "code",
      "metadata": {
        "id": "AshrvmaNFNwZ",
        "outputId": "95352581-178d-4758-bc74-72a320da6408",
        "colab": {
          "base_uri": "https://localhost:8080/",
          "height": 387
        }
      },
      "source": [
        "count = []\n",
        "for i in movie_genre_list:\n",
        "  # print(i)\n",
        "  genre_based_movies = items_dataset[['movie id','movie title',i]]\n",
        "  genre_based_movies = genre_based_movies[genre_based_movies[i] == 1]\n",
        "  count.append(len(genre_based_movies))\n",
        "  # merged_genre_movies = pd.merge(dataset, genre_based_movies, how='inner', on='movie id')\n",
        "  # star_based_visualization(merged_genre_movies)\n",
        "df = pd.DataFrame({'Movie genre':movie_genre_list, 'Number of movies':count})\n",
        "ax = df.plot.bar(x='Movie genre', y='Number of movies', rot=60, figsize=(10, 5))"
      ],
      "execution_count": null,
      "outputs": [
        {
          "output_type": "display_data",
          "data": {
            "image/png": "[encoded data removed]",
            "text/plain": [
              "<Figure size 720x360 with 1 Axes>"
            ]
          },
          "metadata": {
            "tags": [],
            "needs_background": "light"
          }
        }
      ]
    },
    {
      "cell_type": "markdown",
      "metadata": {
        "id": "XS70qUcRIHTc"
      },
      "source": [
        "We can see that most of the movies belong to movie genre : **Drama** followed by **Comedy** then **Action, Romance and Thriller**"
      ]
    },
    {
      "cell_type": "code",
      "metadata": {
        "id": "v6VOyzlHKW69"
      },
      "source": [
        "def star_based_visualization(dataframe):\n",
        "  dataframe['rating'].value_counts(sort=False).plot(kind='bar' ,figsize=(10,6), use_index = True, rot=0)\n",
        "  plt.title('Bar plot of rating frequency')\n",
        "  plt.xlabel('Rating')\n",
        "  plt.ylabel('Number of times a rating was given')\n",
        "  # label = list(dataframe['rating'].value_counts(sort=False))\n",
        "  plt.show()\n",
        "  print(\"Total number of users watched this Genre: \",len(dataframe))\n",
        "  print(\"  \")\n"
      ],
      "execution_count": null,
      "outputs": []
    },
    {
      "cell_type": "code",
      "metadata": {
        "id": "-lyP4wzTFJ4O"
      },
      "source": [
        "def recommendations_genre(genre):\n",
        "  x = genre\n",
        "  print(\"****************************     ******************************     ******************************\")\n",
        "  print(\"****************************     ****** GENRE: \", x,\" ******     ******************************\")\n",
        "  print(\"    \")\n",
        "  genre_based_movies = items_dataset[['movie id','movie title',x]]\n",
        "  genre_based_movies = genre_based_movies[genre_based_movies[x] == 1]\n",
        "  merged_genre_movies = pd.merge(dataset, genre_based_movies, how='inner', on='movie id')\n",
        "  # merged_genre_movies.head()\n",
        "\n",
        "  star_based_visualization(merged_genre_movies)\n",
        "  high_rated_movies = merged_genre_movies.groupby(['movie title']).agg({\"rating\":\"mean\"})['rating'].sort_values(ascending=False)\n",
        "  high_rated_movies = high_rated_movies.to_frame()\n",
        "  print(\"These are the top movies that can be naviely suggested to the new users for the requested movie genre:\", x, \". Recommendations based on top average ratings.\")\n",
        "  print(high_rated_movies.head(10))\n",
        "  print(\"****************************     ******************************     ******************************\")\n",
        "  popular_movies_ingenre = merged_genre_movies.groupby(['movie title']).agg({\"rating\":\"count\"})['rating'].sort_values(ascending=False)\n",
        "  popular_movies_ingenre = popular_movies_ingenre.to_frame()\n",
        "  popular_movies_ingenre.reset_index(level=0, inplace=True)\n",
        "  popular_movies_ingenre.columns = ['movie title', 'Number of Users watched']\n",
        "  print(\"These are the most popular movies which can be recommended to a new user in\",x,\"genre. Recommendations based on Popularity\")\n",
        "  print(popular_movies_ingenre.sort_values('Number of Users watched', ascending=False).head(10))\n",
        "  print(\"****************************     ******************************     ******************************\")\n",
        "  highly_rated_popular_movies = pd.merge(high_rated_movies, popular_movies_ingenre, how = 'inner', on='movie title')\n",
        "  # highly_rated_popular_movies.head(10)\n",
        "  viewer_limit = 300\n",
        "  ratings_limit = 4.0\n",
        "  count = 0\n",
        "  check = 0\n",
        "  while viewer_limit > 0 and ratings_limit > 0:\n",
        "    s = highly_rated_popular_movies[(highly_rated_popular_movies['Number of Users watched']>viewer_limit) & (highly_rated_popular_movies['rating']>=ratings_limit)]\n",
        "    if len(s) < 11:\n",
        "      if check == 0:\n",
        "        viewer_limit -= 50\n",
        "        check = 1\n",
        "      else:\n",
        "        ratings_limit -= 0.5\n",
        "        check = 0\n",
        "    else:\n",
        "      break\n",
        "  print(\"These movies are the best to suggest to a new user within their requested genre as they are popular and well rated by the users who already watched them.\")\n",
        "  print(\"These have rating more than \",ratings_limit,\" with atleast \",viewer_limit ,\" viewers.\")\n",
        "\n",
        "  print(\"**Recommendations based popularity and rating. These are top rated popular movies**\")\n",
        "  print(s)\n",
        "  print(\"****************************     ******************************     ******************************\")\n",
        "  print(\"                             \")\n",
        "  print(\"                             \")\n"
      ],
      "execution_count": null,
      "outputs": []
    },
    {
      "cell_type": "code",
      "metadata": {
        "id": "BLmjabNKHJe8",
        "outputId": "fbbc036c-c3d4-4422-ca3c-3b4189797ac2",
        "colab": {
          "base_uri": "https://localhost:8080/",
          "height": 1000
        }
      },
      "source": [
        "for i in movie_genre_list[1:]:\n",
        "  recommendations_genre(i)"
      ],
      "execution_count": null,
      "outputs": [
        {
          "output_type": "stream",
          "text": [
            "****************************     ******************************     ******************************\n",
            "****************************     ****** GENRE:  Action  ******     ******************************\n",
            "    \n"
          ],
          "name": "stdout"
        },
        {
          "output_type": "display_data",
          "data": {
            "image/png": "[encoded data removed]",
            "text/plain": [
              "<Figure size 720x432 with 1 Axes>"
            ]
          },
          "metadata": {
            "tags": [],
            "needs_background": "light"
          }
        },
        {
          "output_type": "stream",
          "text": [
            "Total number of users watched this Genre:  25589\n",
            "  \n",
            "These are the top movies that can be naviely suggested to the new users for the requested movie genre: Action . Recommendations based on top average ratings.\n",
            "                                   rating\n",
            "movie title                              \n",
            "Star Wars (1977)                 4.358491\n",
            "Godfather, The (1972)            4.283293\n",
            "Raiders of the Lost Ark (1981)   4.252381\n",
            "Titanic (1997)                   4.245714\n",
            "Empire Strikes Back, The (1980)  4.204360\n",
            "Boot, Das (1981)                 4.203980\n",
            "Godfather: Part II, The (1974)   4.186603\n",
            "African Queen, The (1951)        4.184211\n",
            "Princess Bride, The (1987)       4.172840\n",
            "Braveheart (1995)                4.151515\n",
            "****************************     ******************************     ******************************\n",
            "These are the most popular movies which can be recommended to a new user in Action genre. Recommendations based on Popularity\n",
            "                       movie title  Number of Users watched\n",
            "0                 Star Wars (1977)                      583\n",
            "1        Return of the Jedi (1983)                      507\n",
            "2             Air Force One (1997)                      431\n",
            "3    Independence Day (ID4) (1996)                      429\n",
            "4   Raiders of the Lost Ark (1981)                      420\n",
            "5            Godfather, The (1972)                      413\n",
            "6                 Rock, The (1996)                      378\n",
            "7  Empire Strikes Back, The (1980)                      367\n",
            "8  Star Trek: First Contact (1996)                      365\n",
            "9                   Titanic (1997)                      350\n",
            "****************************     ******************************     ******************************\n",
            "These movies are the best to suggest to a new user within their requested genre as they are popular and well rated by the users who already watched them.\n",
            "These have rating more than  4.0  with atleast  250  viewers.\n",
            "**Recommendations based popularity and rating. These are top rated popular movies**\n",
            "                          movie title    rating  Number of Users watched\n",
            "0                    Star Wars (1977)  4.358491                      583\n",
            "1               Godfather, The (1972)  4.283293                      413\n",
            "2      Raiders of the Lost Ark (1981)  4.252381                      420\n",
            "3                      Titanic (1997)  4.245714                      350\n",
            "4     Empire Strikes Back, The (1980)  4.204360                      367\n",
            "8          Princess Bride, The (1987)  4.172840                      324\n",
            "9                   Braveheart (1995)  4.151515                      297\n",
            "11               Fugitive, The (1993)  4.044643                      336\n",
            "12                       Alien (1979)  4.034364                      291\n",
            "13          Return of the Jedi (1983)  4.007890                      507\n",
            "14  Terminator 2: Judgment Day (1991)  4.006780                      295\n",
            "****************************     ******************************     ******************************\n",
            "                             \n",
            "                             \n",
            "****************************     ******************************     ******************************\n",
            "****************************     ****** GENRE:  Adventure  ******     ******************************\n",
            "    \n"
          ],
          "name": "stdout"
        },
        {
          "output_type": "display_data",
          "data": {
            "image/png": "[encoded data removed]",
            "text/plain": [
              "<Figure size 720x432 with 1 Axes>"
            ]
          },
          "metadata": {
            "tags": [],
            "needs_background": "light"
          }
        },
        {
          "output_type": "stream",
          "text": [
            "Total number of users watched this Genre:  13753\n",
            "  \n",
            "These are the top movies that can be naviely suggested to the new users for the requested movie genre: Adventure . Recommendations based on top average ratings.\n",
            "                                            rating\n",
            "movie title                                       \n",
            "Star Kid (1997)                           5.000000\n",
            "Star Wars (1977)                          4.358491\n",
            "Raiders of the Lost Ark (1981)            4.252381\n",
            "Lawrence of Arabia (1962)                 4.231214\n",
            "Empire Strikes Back, The (1980)           4.204360\n",
            "African Queen, The (1951)                 4.184211\n",
            "Princess Bride, The (1987)                4.172840\n",
            "Great Escape, The (1963)                  4.104839\n",
            "Treasure of the Sierra Madre, The (1948)  4.100000\n",
            "Wizard of Oz, The (1939)                  4.077236\n",
            "****************************     ******************************     ******************************\n",
            "These are the most popular movies which can be recommended to a new user in Adventure genre. Recommendations based on Popularity\n",
            "                                    movie title  Number of Users watched\n",
            "0                              Star Wars (1977)                      583\n",
            "1                     Return of the Jedi (1983)                      507\n",
            "2                Raiders of the Lost Ark (1981)                      420\n",
            "3                              Rock, The (1996)                      378\n",
            "4               Empire Strikes Back, The (1980)                      367\n",
            "5               Star Trek: First Contact (1996)                      365\n",
            "6                    Mission: Impossible (1996)                      344\n",
            "7     Indiana Jones and the Last Crusade (1989)                      331\n",
            "8  Willy Wonka and the Chocolate Factory (1971)                      326\n",
            "9                    Princess Bride, The (1987)                      324\n",
            "****************************     ******************************     ******************************\n",
            "These movies are the best to suggest to a new user within their requested genre as they are popular and well rated by the users who already watched them.\n",
            "These have rating more than  3.5  with atleast  250  viewers.\n",
            "**Recommendations based popularity and rating. These are top rated popular movies**\n",
            "                                     movie title  ...  Number of Users watched\n",
            "1                               Star Wars (1977)  ...                      583\n",
            "2                 Raiders of the Lost Ark (1981)  ...                      420\n",
            "4                Empire Strikes Back, The (1980)  ...                      367\n",
            "6                     Princess Bride, The (1987)  ...                      324\n",
            "11                     Return of the Jedi (1983)  ...                      507\n",
            "15     Indiana Jones and the Last Crusade (1989)  ...                      331\n",
            "20                     Dances with Wolves (1990)  ...                      256\n",
            "23                           Men in Black (1997)  ...                      303\n",
            "24                          Jurassic Park (1993)  ...                      261\n",
            "25                              Rock, The (1996)  ...                      378\n",
            "27               Star Trek: First Contact (1996)  ...                      365\n",
            "28  Willy Wonka and the Chocolate Factory (1971)  ...                      326\n",
            "\n",
            "[12 rows x 3 columns]\n",
            "****************************     ******************************     ******************************\n",
            "                             \n",
            "                             \n",
            "****************************     ******************************     ******************************\n",
            "****************************     ****** GENRE:  Animation  ******     ******************************\n",
            "    \n"
          ],
          "name": "stdout"
        },
        {
          "output_type": "display_data",
          "data": {
            "image/png": "[encoded data removed]",
            "text/plain": [
              "<Figure size 720x432 with 1 Axes>"
            ]
          },
          "metadata": {
            "tags": [],
            "needs_background": "light"
          }
        },
        {
          "output_type": "stream",
          "text": [
            "Total number of users watched this Genre:  3605\n",
            "  \n",
            "These are the top movies that can be naviely suggested to the new users for the requested movie genre: Animation . Recommendations based on top average ratings.\n",
            "                                                      rating\n",
            "movie title                                                 \n",
            "Close Shave, A (1995)                               4.491071\n",
            "Wrong Trousers, The (1993)                          4.466102\n",
            "Wallace & Gromit: The Best of Aardman Animation...  4.447761\n",
            "Faust (1994)                                        4.200000\n",
            "Grand Day Out, A (1992)                             4.106061\n",
            "Toy Story (1995)                                    3.878319\n",
            "Aladdin (1992)                                      3.812785\n",
            "Winnie the Pooh and the Blustery Day (1968)         3.800000\n",
            "Beauty and the Beast (1991)                         3.792079\n",
            "Lion King, The (1994)                               3.781818\n",
            "****************************     ******************************     ******************************\n",
            "These are the most popular movies which can be recommended to a new user in Animation genre. Recommendations based on Popularity\n",
            "                              movie title  Number of Users watched\n",
            "0                        Toy Story (1995)                      452\n",
            "1                   Lion King, The (1994)                      220\n",
            "2                          Aladdin (1992)                      219\n",
            "3             Beauty and the Beast (1991)                      202\n",
            "4                         Fantasia (1940)                      174\n",
            "5  Snow White and the Seven Dwarfs (1937)                      172\n",
            "6  Beavis and Butt-head Do America (1996)                      156\n",
            "7                       Cinderella (1950)                      129\n",
            "8     Hunchback of Notre Dame, The (1996)                      127\n",
            "9        James and the Giant Peach (1996)                      126\n",
            "****************************     ******************************     ******************************\n",
            "These movies are the best to suggest to a new user within their requested genre as they are popular and well rated by the users who already watched them.\n",
            "These have rating more than  2.5  with atleast  100  viewers.\n",
            "**Recommendations based popularity and rating. These are top rated popular movies**\n",
            "                               movie title    rating  Number of Users watched\n",
            "0                    Close Shave, A (1995)  4.491071                      112\n",
            "1               Wrong Trousers, The (1993)  4.466102                      118\n",
            "5                         Toy Story (1995)  3.878319                      452\n",
            "6                           Aladdin (1992)  3.812785                      219\n",
            "8              Beauty and the Beast (1991)  3.792079                      202\n",
            "9                    Lion King, The (1994)  3.781818                      220\n",
            "10                         Fantasia (1940)  3.770115                      174\n",
            "11  Snow White and the Seven Dwarfs (1937)  3.709302                      172\n",
            "12                        Pinocchio (1940)  3.673267                      101\n",
            "15                       Cinderella (1950)  3.581395                      129\n",
            "17                            Dumbo (1941)  3.495935                      123\n",
            "20     Hunchback of Notre Dame, The (1996)  3.377953                      127\n",
            "26        James and the Giant Peach (1996)  3.126984                      126\n",
            "33  Beavis and Butt-head Do America (1996)  2.788462                      156\n",
            "****************************     ******************************     ******************************\n",
            "                             \n",
            "                             \n",
            "****************************     ******************************     ******************************\n",
            "****************************     ****** GENRE:  Children  ******     ******************************\n",
            "    \n"
          ],
          "name": "stdout"
        },
        {
          "output_type": "display_data",
          "data": {
            "image/png": "[encoded data removed]",
            "text/plain": [
              "<Figure size 720x432 with 1 Axes>"
            ]
          },
          "metadata": {
            "tags": [],
            "needs_background": "light"
          }
        },
        {
          "output_type": "stream",
          "text": [
            "Total number of users watched this Genre:  7182\n",
            "  \n",
            "These are the top movies that can be naviely suggested to the new users for the requested movie genre: Children . Recommendations based on top average ratings.\n",
            "                                               rating\n",
            "movie title                                          \n",
            "Star Kid (1997)                              5.000000\n",
            "Wizard of Oz, The (1939)                     4.077236\n",
            "Babe (1995)                                  3.995434\n",
            "Toy Story (1995)                             3.878319\n",
            "E.T. the Extra-Terrestrial (1982)            3.833333\n",
            "Aladdin (1992)                               3.812785\n",
            "Winnie the Pooh and the Blustery Day (1968)  3.800000\n",
            "Beauty and the Beast (1991)                  3.792079\n",
            "Lion King, The (1994)                        3.781818\n",
            "Fantasia (1940)                              3.770115\n",
            "****************************     ******************************     ******************************\n",
            "These are the most popular movies which can be recommended to a new user in Children genre. Recommendations based on Popularity\n",
            "                                    movie title  Number of Users watched\n",
            "0                              Toy Story (1995)                      452\n",
            "1  Willy Wonka and the Chocolate Factory (1971)                      326\n",
            "2             E.T. the Extra-Terrestrial (1982)                      300\n",
            "3                      Wizard of Oz, The (1939)                      246\n",
            "4                         Lion King, The (1994)                      220\n",
            "5                                   Babe (1995)                      219\n",
            "6                                Aladdin (1992)                      219\n",
            "7                   Beauty and the Beast (1991)                      202\n",
            "8                          Fly Away Home (1996)                      180\n",
            "9                           Mary Poppins (1964)                      178\n",
            "****************************     ******************************     ******************************\n",
            "These movies are the best to suggest to a new user within their requested genre as they are popular and well rated by the users who already watched them.\n",
            "These have rating more than  3.0  with atleast  150  viewers.\n",
            "**Recommendations based popularity and rating. These are top rated popular movies**\n",
            "                                     movie title  ...  Number of Users watched\n",
            "1                       Wizard of Oz, The (1939)  ...                      246\n",
            "2                                    Babe (1995)  ...                      219\n",
            "3                               Toy Story (1995)  ...                      452\n",
            "4              E.T. the Extra-Terrestrial (1982)  ...                      300\n",
            "5                                 Aladdin (1992)  ...                      219\n",
            "7                    Beauty and the Beast (1991)  ...                      202\n",
            "8                          Lion King, The (1994)  ...                      220\n",
            "9                                Fantasia (1940)  ...                      174\n",
            "10                           Mary Poppins (1964)  ...                      178\n",
            "11        Snow White and the Seven Dwarfs (1937)  ...                      172\n",
            "15  Willy Wonka and the Chocolate Factory (1971)  ...                      326\n",
            "16                          Fly Away Home (1996)  ...                      180\n",
            "\n",
            "[12 rows x 3 columns]\n",
            "****************************     ******************************     ******************************\n",
            "                             \n",
            "                             \n",
            "****************************     ******************************     ******************************\n",
            "****************************     ****** GENRE:  Comedy  ******     ******************************\n",
            "    \n"
          ],
          "name": "stdout"
        },
        {
          "output_type": "display_data",
          "data": {
            "image/png": "[encoded data removed]",
            "text/plain": [
              "<Figure size 720x432 with 1 Axes>"
            ]
          },
          "metadata": {
            "tags": [],
            "needs_background": "light"
          }
        },
        {
          "output_type": "stream",
          "text": [
            "Total number of users watched this Genre:  29832\n",
            "  \n",
            "These are the top movies that can be naviely suggested to the new users for the requested movie genre: Comedy . Recommendations based on top average ratings.\n",
            "                              rating\n",
            "movie title                         \n",
            "Santa with Muscles (1996)   5.000000\n",
            "Close Shave, A (1995)       4.491071\n",
            "Wrong Trousers, The (1993)  4.466102\n",
            "North by Northwest (1959)   4.284916\n",
            "Shall We Dance? (1996)      4.260870\n",
            "As Good As It Gets (1997)   4.196429\n",
            "Cinema Paradiso (1988)      4.173554\n",
            "Princess Bride, The (1987)  4.172840\n",
            "Waiting for Guffman (1996)  4.127660\n",
            "A Chef in Love (1996)       4.125000\n",
            "****************************     ******************************     ******************************\n",
            "These are the most popular movies which can be recommended to a new user in Comedy genre. Recommendations based on Popularity\n",
            "                                    movie title  Number of Users watched\n",
            "0                              Liar Liar (1997)                      485\n",
            "1                              Toy Story (1995)                      452\n",
            "2                     Back to the Future (1985)                      350\n",
            "3  Willy Wonka and the Chocolate Factory (1971)                      326\n",
            "4                    Princess Bride, The (1987)                      324\n",
            "5                           Forrest Gump (1994)                      321\n",
            "6        Monty Python and the Holy Grail (1974)                      316\n",
            "7                        Full Monty, The (1997)                      315\n",
            "8                           Men in Black (1997)                      303\n",
            "9                          Birdcage, The (1996)                      293\n",
            "****************************     ******************************     ******************************\n",
            "These movies are the best to suggest to a new user within their requested genre as they are popular and well rated by the users who already watched them.\n",
            "These have rating more than  3.5  with atleast  250  viewers.\n",
            "**Recommendations based popularity and rating. These are top rated popular movies**\n",
            "                                      movie title  ...  Number of Users watched\n",
            "7                      Princess Bride, The (1987)  ...                      324\n",
            "14         Monty Python and the Holy Grail (1974)  ...                      316\n",
            "45                         Full Monty, The (1997)  ...                      315\n",
            "49                 When Harry Met Sally... (1989)  ...                      290\n",
            "55                               Toy Story (1995)  ...                      452\n",
            "58                         Raising Arizona (1987)  ...                      256\n",
            "61                            Forrest Gump (1994)  ...                      321\n",
            "63                     Blues Brothers, The (1980)  ...                      251\n",
            "64                      Back to the Future (1985)  ...                      350\n",
            "79                           Groundhog Day (1993)  ...                      280\n",
            "82                            Men in Black (1997)  ...                      303\n",
            "102            Four Weddings and a Funeral (1994)  ...                      251\n",
            "106  Willy Wonka and the Chocolate Factory (1971)  ...                      326\n",
            "\n",
            "[13 rows x 3 columns]\n",
            "****************************     ******************************     ******************************\n",
            "                             \n",
            "                             \n",
            "****************************     ******************************     ******************************\n",
            "****************************     ****** GENRE:  Crime  ******     ******************************\n",
            "    \n"
          ],
          "name": "stdout"
        },
        {
          "output_type": "display_data",
          "data": {
            "image/png": "[encoded data removed]",
            "text/plain": [
              "<Figure size 720x432 with 1 Axes>"
            ]
          },
          "metadata": {
            "tags": [],
            "needs_background": "light"
          }
        },
        {
          "output_type": "stream",
          "text": [
            "Total number of users watched this Genre:  8055\n",
            "  \n",
            "These are the top movies that can be naviely suggested to the new users for the requested movie genre: Crime . Recommendations based on top average ratings.\n",
            "                                   rating\n",
            "movie title                              \n",
            "They Made Me a Criminal (1939)   5.000000\n",
            "Usual Suspects, The (1995)       4.385768\n",
            "Letter From Death Row, A (1998)  4.333333\n",
            "Godfather, The (1972)            4.283293\n",
            "Crossfire (1947)                 4.250000\n",
            "Godfather: Part II, The (1974)   4.186603\n",
            "L.A. Confidential (1997)         4.161616\n",
            "Fargo (1996)                     4.155512\n",
            "Laura (1944)                     4.100000\n",
            "Once Were Warriors (1994)        4.064516\n",
            "****************************     ******************************     ******************************\n",
            "These are the most popular movies which can be recommended to a new user in Crime genre. Recommendations based on Popularity\n",
            "                      movie title  Number of Users watched\n",
            "0                    Fargo (1996)                      508\n",
            "1           Godfather, The (1972)                      413\n",
            "2             Pulp Fiction (1994)                      394\n",
            "3        L.A. Confidential (1997)                      297\n",
            "4      Usual Suspects, The (1995)                      267\n",
            "5               Sting, The (1973)                      241\n",
            "6            Seven (Se7en) (1995)                      236\n",
            "7               GoodFellas (1990)                      226\n",
            "8                     Heat (1995)                      223\n",
            "9  Godfather: Part II, The (1974)                      209\n",
            "****************************     ******************************     ******************************\n",
            "These movies are the best to suggest to a new user within their requested genre as they are popular and well rated by the users who already watched them.\n",
            "These have rating more than  3.0  with atleast  200  viewers.\n",
            "**Recommendations based popularity and rating. These are top rated popular movies**\n",
            "                       movie title    rating  Number of Users watched\n",
            "1       Usual Suspects, The (1995)  4.385768                      267\n",
            "3            Godfather, The (1972)  4.283293                      413\n",
            "5   Godfather: Part II, The (1974)  4.186603                      209\n",
            "6         L.A. Confidential (1997)  4.161616                      297\n",
            "7                     Fargo (1996)  4.155512                      508\n",
            "10             Pulp Fiction (1994)  4.060914                      394\n",
            "11               Sting, The (1973)  4.058091                      241\n",
            "19               GoodFellas (1990)  3.951327                      226\n",
            "21            Seven (Se7en) (1995)  3.847458                      236\n",
            "31                     Heat (1995)  3.569507                      223\n",
            "40                   Batman (1989)  3.427861                      201\n",
            "****************************     ******************************     ******************************\n",
            "                             \n",
            "                             \n",
            "****************************     ******************************     ******************************\n",
            "****************************     ****** GENRE:  Documentary  ******     ******************************\n",
            "    \n"
          ],
          "name": "stdout"
        },
        {
          "output_type": "display_data",
          "data": {
            "image/png": "[encoded data removed]",
            "text/plain": [
              "<Figure size 720x432 with 1 Axes>"
            ]
          },
          "metadata": {
            "tags": [],
            "needs_background": "light"
          }
        },
        {
          "output_type": "stream",
          "text": [
            "Total number of users watched this Genre:  758\n",
            "  \n",
            "These are the top movies that can be naviely suggested to the new users for the requested movie genre: Documentary . Recommendations based on top average ratings.\n",
            "                                                      rating\n",
            "movie title                                                 \n",
            "Great Day in Harlem, A (1994)                       5.000000\n",
            "Marlene Dietrich: Shadow and Light (1996)           5.000000\n",
            "Maya Lin: A Strong Clear Vision (1994)              4.500000\n",
            "Everest (1998)                                      4.500000\n",
            "Hoop Dreams (1994)                                  4.094017\n",
            "Paradise Lost: The Child Murders at Robin Hood ...  4.050000\n",
            "When We Were Kings (1996)                           4.045455\n",
            "Nico Icon (1995)                                    4.000000\n",
            "Wonderful, Horrible Life of Leni Riefenstahl, T...  4.000000\n",
            "Gate of Heavenly Peace, The (1995)                  4.000000\n",
            "****************************     ******************************     ******************************\n",
            "These are the most popular movies which can be recommended to a new user in Documentary genre. Recommendations based on Popularity\n",
            "                                movie title  Number of Users watched\n",
            "0                        Hoop Dreams (1994)                      117\n",
            "1                              Crumb (1994)                       81\n",
            "2              Celluloid Closet, The (1995)                       56\n",
            "3                Looking for Richard (1996)                       55\n",
            "4                      Koyaanisqatsi (1983)                       53\n",
            "5                 When We Were Kings (1996)                       44\n",
            "6                Thin Blue Line, The (1988)                       35\n",
            "7       Fast, Cheap & Out of Control (1997)                       32\n",
            "8                   Paris Is Burning (1990)                       27\n",
            "9  Microcosmos: Le peuple de l'herbe (1996)                       24\n",
            "****************************     ******************************     ******************************\n",
            "These movies are the best to suggest to a new user within their requested genre as they are popular and well rated by the users who already watched them.\n",
            "These have rating more than  1.5  with atleast  0  viewers.\n",
            "**Recommendations based popularity and rating. These are top rated popular movies**\n",
            "                     movie title    rating  Number of Users watched\n",
            "4             Hoop Dreams (1994)  4.094017                      117\n",
            "13  Celluloid Closet, The (1995)  3.892857                       56\n",
            "16                  Crumb (1994)  3.790123                       81\n",
            "20    Looking for Richard (1996)  3.727273                       55\n",
            "23          Koyaanisqatsi (1983)  3.490566                       53\n",
            "****************************     ******************************     ******************************\n",
            "                             \n",
            "                             \n",
            "****************************     ******************************     ******************************\n",
            "****************************     ****** GENRE:  Drama  ******     ******************************\n",
            "    \n"
          ],
          "name": "stdout"
        },
        {
          "output_type": "display_data",
          "data": {
            "image/png": "[encoded data removed]",
            "text/plain": [
              "<Figure size 720x432 with 1 Axes>"
            ]
          },
          "metadata": {
            "tags": [],
            "needs_background": "light"
          }
        },
        {
          "output_type": "stream",
          "text": [
            "Total number of users watched this Genre:  39895\n",
            "  \n",
            "These are the top movies that can be naviely suggested to the new users for the requested movie genre: Drama . Recommendations based on top average ratings.\n",
            "                                                     rating\n",
            "movie title                                                \n",
            "Prefontaine (1997)                                 5.000000\n",
            "Entertaining Angels: The Dorothy Day Story (1996)  5.000000\n",
            "Someone Else's America (1995)                      5.000000\n",
            "They Made Me a Criminal (1939)                     5.000000\n",
            "Aiqing wansui (1994)                               5.000000\n",
            "Saint of Fort Washington, The (1993)               5.000000\n",
            "Pather Panchali (1955)                             4.625000\n",
            "Some Mother's Son (1996)                           4.500000\n",
            "Anna (1996)                                        4.500000\n",
            "Schindler's List (1993)                            4.466443\n",
            "****************************     ******************************     ******************************\n",
            "These are the most popular movies which can be recommended to a new user in Drama genre. Recommendations based on Popularity\n",
            "                        movie title  Number of Users watched\n",
            "0                    Contact (1997)                      509\n",
            "1                      Fargo (1996)                      508\n",
            "2       English Patient, The (1996)                      481\n",
            "3             Godfather, The (1972)                      413\n",
            "4               Pulp Fiction (1994)                      394\n",
            "5             Twelve Monkeys (1995)                      392\n",
            "6  Silence of the Lambs, The (1991)                      390\n",
            "7              Jerry Maguire (1996)                      384\n",
            "8                Chasing Amy (1997)                      379\n",
            "9   Empire Strikes Back, The (1980)                      367\n",
            "****************************     ******************************     ******************************\n",
            "These movies are the best to suggest to a new user within their requested genre as they are popular and well rated by the users who already watched them.\n",
            "These have rating more than  4.0  with atleast  250  viewers.\n",
            "**Recommendations based popularity and rating. These are top rated popular movies**\n",
            "                               movie title    rating  Number of Users watched\n",
            "9                  Schindler's List (1993)  4.466443                      298\n",
            "11        Shawshank Redemption, The (1994)  4.445230                      283\n",
            "18  One Flew Over the Cuckoo's Nest (1975)  4.291667                      264\n",
            "19        Silence of the Lambs, The (1991)  4.289744                      390\n",
            "20                   Godfather, The (1972)  4.283293                      413\n",
            "24                          Titanic (1997)  4.245714                      350\n",
            "26         Empire Strikes Back, The (1980)  4.204360                      367\n",
            "34                          Amadeus (1984)  4.163043                      276\n",
            "35                            Fargo (1996)  4.155512                      508\n",
            "37                       Braveheart (1995)  4.151515                      297\n",
            "54                     Pulp Fiction (1994)  4.060914                      394\n",
            "63            Sense and Sensibility (1995)  4.011194                      268\n",
            "****************************     ******************************     ******************************\n",
            "                             \n",
            "                             \n",
            "****************************     ******************************     ******************************\n",
            "****************************     ****** GENRE:  Fantasy  ******     ******************************\n",
            "    \n"
          ],
          "name": "stdout"
        },
        {
          "output_type": "display_data",
          "data": {
            "image/png": "[encoded data removed]",
            "text/plain": [
              "<Figure size 720x432 with 1 Axes>"
            ]
          },
          "metadata": {
            "tags": [],
            "needs_background": "light"
          }
        },
        {
          "output_type": "stream",
          "text": [
            "Total number of users watched this Genre:  1352\n",
            "  \n",
            "These are the top movies that can be naviely suggested to the new users for the requested movie genre: Fantasy . Recommendations based on top average ratings.\n",
            "                                       rating\n",
            "movie title                                  \n",
            "Star Kid (1997)                      5.000000\n",
            "E.T. the Extra-Terrestrial (1982)    3.833333\n",
            "Heavenly Creatures (1994)            3.671429\n",
            "20,000 Leagues Under the Sea (1954)  3.500000\n",
            "Jumanji (1995)                       3.312500\n",
            "Mask, The (1994)                     3.193798\n",
            "Dragonheart (1996)                   3.082278\n",
            "Warriors of Virtue (1997)            3.000000\n",
            "FairyTale: A True Story (1997)       2.966667\n",
            "Escape to Witch Mountain (1975)      2.966667\n",
            "****************************     ******************************     ******************************\n",
            "These are the most popular movies which can be recommended to a new user in Fantasy genre. Recommendations based on Popularity\n",
            "                           movie title  Number of Users watched\n",
            "0    E.T. the Extra-Terrestrial (1982)                      300\n",
            "1          Nutty Professor, The (1996)                      163\n",
            "2                   Dragonheart (1996)                      158\n",
            "3                     Mask, The (1994)                      129\n",
            "4                       Jumanji (1995)                       96\n",
            "5                     Space Jam (1996)                       93\n",
            "6  20,000 Leagues Under the Sea (1954)                       72\n",
            "7            Heavenly Creatures (1994)                       70\n",
            "8                       Flubber (1997)                       53\n",
            "9   Indian in the Cupboard, The (1995)                       39\n",
            "****************************     ******************************     ******************************\n",
            "These movies are the best to suggest to a new user within their requested genre as they are popular and well rated by the users who already watched them.\n",
            "These have rating more than  1.5  with atleast  0  viewers.\n",
            "**Recommendations based popularity and rating. These are top rated popular movies**\n",
            "                            movie title    rating  Number of Users watched\n",
            "1     E.T. the Extra-Terrestrial (1982)  3.833333                      300\n",
            "2             Heavenly Creatures (1994)  3.671429                       70\n",
            "3   20,000 Leagues Under the Sea (1954)  3.500000                       72\n",
            "4                        Jumanji (1995)  3.312500                       96\n",
            "5                      Mask, The (1994)  3.193798                      129\n",
            "6                    Dragonheart (1996)  3.082278                      158\n",
            "10          Nutty Professor, The (1996)  2.914110                      163\n",
            "12                     Space Jam (1996)  2.774194                       93\n",
            "13                       Flubber (1997)  2.754717                       53\n",
            "****************************     ******************************     ******************************\n",
            "                             \n",
            "                             \n",
            "****************************     ******************************     ******************************\n",
            "****************************     ****** GENRE:  Film-Noir  ******     ******************************\n",
            "    \n"
          ],
          "name": "stdout"
        },
        {
          "output_type": "display_data",
          "data": {
            "image/png": "[encoded data removed]",
            "text/plain": [
              "<Figure size 720x432 with 1 Axes>"
            ]
          },
          "metadata": {
            "tags": [],
            "needs_background": "light"
          }
        },
        {
          "output_type": "stream",
          "text": [
            "Total number of users watched this Genre:  1733\n",
            "  \n",
            "These are the top movies that can be naviely suggested to the new users for the requested movie genre: Film-Noir . Recommendations based on top average ratings.\n",
            "                                    rating\n",
            "movie title                               \n",
            "Manchurian Candidate, The (1962)  4.259542\n",
            "Crossfire (1947)                  4.250000\n",
            "Maltese Falcon, The (1941)        4.210145\n",
            "Sunset Blvd. (1950)               4.200000\n",
            "L.A. Confidential (1997)          4.161616\n",
            "Blade Runner (1982)               4.138182\n",
            "Chinatown (1974)                  4.136054\n",
            "Notorious (1946)                  4.115385\n",
            "Laura (1944)                      4.100000\n",
            "Big Sleep, The (1946)             4.027397\n",
            "****************************     ******************************     ******************************\n",
            "These are the most popular movies which can be recommended to a new user in Film-Noir genre. Recommendations based on Popularity\n",
            "                        movie title  Number of Users watched\n",
            "0          L.A. Confidential (1997)                      297\n",
            "1               Blade Runner (1982)                      275\n",
            "2                  Chinatown (1974)                      147\n",
            "3        Maltese Falcon, The (1941)                      138\n",
            "4  Manchurian Candidate, The (1962)                      131\n",
            "5              Grifters, The (1990)                       89\n",
            "6                  Cape Fear (1962)                       86\n",
            "7           Mulholland Falls (1996)                       82\n",
            "8             Big Sleep, The (1946)                       73\n",
            "9                    Hoodlum (1997)                       73\n",
            "****************************     ******************************     ******************************\n",
            "These movies are the best to suggest to a new user within their requested genre as they are popular and well rated by the users who already watched them.\n",
            "These have rating more than  2.0  with atleast  50  viewers.\n",
            "**Recommendations based popularity and rating. These are top rated popular movies**\n",
            "                         movie title    rating  Number of Users watched\n",
            "0   Manchurian Candidate, The (1962)  4.259542                      131\n",
            "2         Maltese Falcon, The (1941)  4.210145                      138\n",
            "3                Sunset Blvd. (1950)  4.200000                       65\n",
            "4           L.A. Confidential (1997)  4.161616                      297\n",
            "5                Blade Runner (1982)  4.138182                      275\n",
            "6                   Chinatown (1974)  4.136054                      147\n",
            "7                   Notorious (1946)  4.115385                       52\n",
            "9              Big Sleep, The (1946)  4.027397                       73\n",
            "14                  Cape Fear (1962)  3.523256                       86\n",
            "16              Grifters, The (1990)  3.483146                       89\n",
            "17      Devil in a Blue Dress (1995)  3.385965                       57\n",
            "19                    Hoodlum (1997)  2.931507                       73\n",
            "20           Mulholland Falls (1996)  2.878049                       82\n",
            "****************************     ******************************     ******************************\n",
            "                             \n",
            "                             \n",
            "****************************     ******************************     ******************************\n",
            "****************************     ****** GENRE:  Horror  ******     ******************************\n",
            "    \n"
          ],
          "name": "stdout"
        },
        {
          "output_type": "display_data",
          "data": {
            "image/png": "[encoded data removed]",
            "text/plain": [
              "<Figure size 720x432 with 1 Axes>"
            ]
          },
          "metadata": {
            "tags": [],
            "needs_background": "light"
          }
        },
        {
          "output_type": "stream",
          "text": [
            "Total number of users watched this Genre:  5317\n",
            "  \n",
            "These are the top movies that can be naviely suggested to the new users for the requested movie genre: Horror . Recommendations based on top average ratings.\n",
            "                                                      rating\n",
            "movie title                                                 \n",
            "Psycho (1960)                                       4.100418\n",
            "Alien (1979)                                        4.034364\n",
            "Young Frankenstein (1974)                           3.945000\n",
            "Braindead (1992)                                    3.857143\n",
            "Shining, The (1980)                                 3.825243\n",
            "Birds, The (1963)                                   3.808642\n",
            "Jaws (1975)                                         3.775000\n",
            "Night Flier (1997)                                  3.714286\n",
            "Bride of Frankenstein (1935)                        3.608696\n",
            "Nosferatu (Nosferatu, eine Symphonie des Grauen...  3.555556\n",
            "****************************     ******************************     ******************************\n",
            "These are the most popular movies which can be recommended to a new user in Horror genre. Recommendations based on Popularity\n",
            "                         movie title  Number of Users watched\n",
            "0                      Scream (1996)                      478\n",
            "1                       Alien (1979)                      291\n",
            "2                        Jaws (1975)                      280\n",
            "3                      Psycho (1960)                      239\n",
            "4                Shining, The (1980)                      206\n",
            "5          Young Frankenstein (1974)                      200\n",
            "6       Devil's Advocate, The (1997)                      188\n",
            "7                  Birds, The (1963)                      162\n",
            "8  Interview with the Vampire (1994)                      137\n",
            "9         Alien: Resurrection (1997)                      124\n",
            "****************************     ******************************     ******************************\n",
            "These movies are the best to suggest to a new user within their requested genre as they are popular and well rated by the users who already watched them.\n",
            "These have rating more than  2.5  with atleast  100  viewers.\n",
            "**Recommendations based popularity and rating. These are top rated popular movies**\n",
            "                          movie title    rating  Number of Users watched\n",
            "0                       Psycho (1960)  4.100418                      239\n",
            "1                        Alien (1979)  4.034364                      291\n",
            "2           Young Frankenstein (1974)  3.945000                      200\n",
            "4                 Shining, The (1980)  3.825243                      206\n",
            "5                   Birds, The (1963)  3.808642                      162\n",
            "6                         Jaws (1975)  3.775000                      280\n",
            "12       Devil's Advocate, The (1997)  3.515957                      188\n",
            "13                      Carrie (1976)  3.504132                      121\n",
            "15                      Scream (1996)  3.441423                      478\n",
            "16            Army of Darkness (1993)  3.431034                      116\n",
            "21            Frighteners, The (1996)  3.234783                      115\n",
            "22                    Scream 2 (1997)  3.216981                      106\n",
            "24  Interview with the Vampire (1994)  3.182482                      137\n",
            "25  Nightmare on Elm Street, A (1984)  3.171171                      111\n",
            "26       Bram Stoker's Dracula (1992)  3.158333                      120\n",
            "28                  Craft, The (1996)  3.115385                      104\n",
            "29         Alien: Resurrection (1997)  3.096774                      124\n",
            "****************************     ******************************     ******************************\n",
            "                             \n",
            "                             \n",
            "****************************     ******************************     ******************************\n",
            "****************************     ****** GENRE:  Musical  ******     ******************************\n",
            "    \n"
          ],
          "name": "stdout"
        },
        {
          "output_type": "display_data",
          "data": {
            "image/png": "[encoded data removed]",
            "text/plain": [
              "<Figure size 720x432 with 1 Axes>"
            ]
          },
          "metadata": {
            "tags": [],
            "needs_background": "light"
          }
        },
        {
          "output_type": "stream",
          "text": [
            "Total number of users watched this Genre:  4954\n",
            "  \n",
            "These are the top movies that can be naviely suggested to the new users for the requested movie genre: Musical . Recommendations based on top average ratings.\n",
            "                                rating\n",
            "movie title                           \n",
            "Wizard of Oz, The (1939)      4.077236\n",
            "Top Hat (1935)                4.047619\n",
            "Damsel in Distress, A (1937)  4.000000\n",
            "Singin' in the Rain (1952)    3.992701\n",
            "This Is Spinal Tap (1984)     3.905759\n",
            "Gay Divorcee, The (1934)      3.866667\n",
            "Blues Brothers, The (1980)    3.836653\n",
            "My Fair Lady (1964)           3.816000\n",
            "Aladdin (1992)                3.812785\n",
            "Beauty and the Beast (1991)   3.792079\n",
            "****************************     ******************************     ******************************\n",
            "These are the most popular movies which can be recommended to a new user in Musical genre. Recommendations based on Popularity\n",
            "                   movie title  Number of Users watched\n",
            "0                 Evita (1996)                      259\n",
            "1   Blues Brothers, The (1980)                      251\n",
            "2     Wizard of Oz, The (1939)                      246\n",
            "3   Sound of Music, The (1965)                      222\n",
            "4        Lion King, The (1994)                      220\n",
            "5               Aladdin (1992)                      219\n",
            "6  Beauty and the Beast (1991)                      202\n",
            "7    This Is Spinal Tap (1984)                      191\n",
            "8          Mary Poppins (1964)                      178\n",
            "9              Fantasia (1940)                      174\n",
            "****************************     ******************************     ******************************\n",
            "These movies are the best to suggest to a new user within their requested genre as they are popular and well rated by the users who already watched them.\n",
            "These have rating more than  3.0  with atleast  150  viewers.\n",
            "**Recommendations based popularity and rating. These are top rated popular movies**\n",
            "                               movie title    rating  Number of Users watched\n",
            "0                 Wizard of Oz, The (1939)  4.077236                      246\n",
            "4                This Is Spinal Tap (1984)  3.905759                      191\n",
            "6               Blues Brothers, The (1980)  3.836653                      251\n",
            "8                           Aladdin (1992)  3.812785                      219\n",
            "9              Beauty and the Beast (1991)  3.792079                      202\n",
            "10                   Lion King, The (1994)  3.781818                      220\n",
            "11                         Fantasia (1940)  3.770115                      174\n",
            "12              Sound of Music, The (1965)  3.765766                      222\n",
            "14                     Mary Poppins (1964)  3.724719                      178\n",
            "16  Snow White and the Seven Dwarfs (1937)  3.709302                      172\n",
            "35                           Grease (1978)  3.347059                      170\n",
            "38         Everyone Says I Love You (1996)  3.273810                      168\n",
            "****************************     ******************************     ******************************\n",
            "                             \n",
            "                             \n",
            "****************************     ******************************     ******************************\n",
            "****************************     ****** GENRE:  Mystery  ******     ******************************\n",
            "    \n"
          ],
          "name": "stdout"
        },
        {
          "output_type": "display_data",
          "data": {
            "image/png": "[encoded data removed]",
            "text/plain": [
              "<Figure size 720x432 with 1 Axes>"
            ]
          },
          "metadata": {
            "tags": [],
            "needs_background": "light"
          }
        },
        {
          "output_type": "stream",
          "text": [
            "Total number of users watched this Genre:  5245\n",
            "  \n",
            "These are the top movies that can be naviely suggested to the new users for the requested movie genre: Mystery . Recommendations based on top average ratings.\n",
            "                               rating\n",
            "movie title                          \n",
            "Rear Window (1954)           4.387560\n",
            "Third Man, The (1949)        4.333333\n",
            "Vertigo (1958)               4.251397\n",
            "Maltese Falcon, The (1941)   4.210145\n",
            "Amadeus (1984)               4.163043\n",
            "L.A. Confidential (1997)     4.161616\n",
            "Thin Man, The (1934)         4.150000\n",
            "Chinatown (1974)             4.136054\n",
            "Laura (1944)                 4.100000\n",
            "Arsenic and Old Lace (1944)  4.078261\n",
            "****************************     ******************************     ******************************\n",
            "These are the most popular movies which can be recommended to a new user in Mystery genre. Recommendations based on Popularity\n",
            "                    movie title  Number of Users watched\n",
            "0    Mission: Impossible (1996)                      344\n",
            "1      L.A. Confidential (1997)                      297\n",
            "2      Conspiracy Theory (1997)                      295\n",
            "3                Amadeus (1984)                      276\n",
            "4  2001: A Space Odyssey (1968)                      259\n",
            "5              Game, The (1997)                      251\n",
            "6         Murder at 1600 (1997)                      218\n",
            "7            Rear Window (1954)                      209\n",
            "8  Devil's Advocate, The (1997)                      188\n",
            "9              Lone Star (1996)                      187\n",
            "****************************     ******************************     ******************************\n",
            "These movies are the best to suggest to a new user within their requested genre as they are popular and well rated by the users who already watched them.\n",
            "These have rating more than  3.0  with atleast  150  viewers.\n",
            "**Recommendations based popularity and rating. These are top rated popular movies**\n",
            "                     movie title    rating  Number of Users watched\n",
            "0             Rear Window (1954)  4.387560                      209\n",
            "2                 Vertigo (1958)  4.251397                      179\n",
            "4                 Amadeus (1984)  4.163043                      276\n",
            "5       L.A. Confidential (1997)  4.161616                      297\n",
            "10              Lone Star (1996)  4.053476                      187\n",
            "14  2001: A Space Odyssey (1968)  3.969112                      259\n",
            "23              Game, The (1997)  3.593625                      251\n",
            "27  Devil's Advocate, The (1997)  3.515957                      188\n",
            "28      Conspiracy Theory (1997)  3.423729                      295\n",
            "31               Cop Land (1997)  3.377143                      175\n",
            "36    Mission: Impossible (1996)  3.313953                      344\n",
            "43         Murder at 1600 (1997)  3.087156                      218\n",
            "****************************     ******************************     ******************************\n",
            "                             \n",
            "                             \n",
            "****************************     ******************************     ******************************\n",
            "****************************     ****** GENRE:  Romance  ******     ******************************\n",
            "    \n"
          ],
          "name": "stdout"
        },
        {
          "output_type": "display_data",
          "data": {
            "image/png": "[encoded data removed]",
            "text/plain": [
              "<Figure size 720x432 with 1 Axes>"
            ]
          },
          "metadata": {
            "tags": [],
            "needs_background": "light"
          }
        },
        {
          "output_type": "stream",
          "text": [
            "Total number of users watched this Genre:  19461\n",
            "  \n",
            "These are the top movies that can be naviely suggested to the new users for the requested movie genre: Romance . Recommendations based on top average ratings.\n",
            "                                   rating\n",
            "movie title                              \n",
            "Casablanca (1942)                4.456790\n",
            "Star Wars (1977)                 4.358491\n",
            "Titanic (1997)                   4.245714\n",
            "Empire Strikes Back, The (1980)  4.204360\n",
            "Affair to Remember, An (1957)    4.192308\n",
            "African Queen, The (1951)        4.184211\n",
            "Cinema Paradiso (1988)           4.173554\n",
            "Princess Bride, The (1987)       4.172840\n",
            "Notorious (1946)                 4.115385\n",
            "Philadelphia Story, The (1940)   4.115385\n",
            "****************************     ******************************     ******************************\n",
            "These are the most popular movies which can be recommended to a new user in Romance genre. Recommendations based on Popularity\n",
            "                       movie title  Number of Users watched\n",
            "0                 Star Wars (1977)                      583\n",
            "1        Return of the Jedi (1983)                      507\n",
            "2      English Patient, The (1996)                      481\n",
            "3             Jerry Maguire (1996)                      384\n",
            "4               Chasing Amy (1997)                      379\n",
            "5  Empire Strikes Back, The (1980)                      367\n",
            "6                   Titanic (1997)                      350\n",
            "7       Princess Bride, The (1987)                      324\n",
            "8              Forrest Gump (1994)                      321\n",
            "9                Saint, The (1997)                      316\n",
            "****************************     ******************************     ******************************\n",
            "These movies are the best to suggest to a new user within their requested genre as they are popular and well rated by the users who already watched them.\n",
            "These have rating more than  3.5  with atleast  250  viewers.\n",
            "**Recommendations based popularity and rating. These are top rated popular movies**\n",
            "                           movie title    rating  Number of Users watched\n",
            "1                     Star Wars (1977)  4.358491                      583\n",
            "2                       Titanic (1997)  4.245714                      350\n",
            "3      Empire Strikes Back, The (1980)  4.204360                      367\n",
            "7           Princess Bride, The (1987)  4.172840                      324\n",
            "19        Sense and Sensibility (1995)  4.011194                      268\n",
            "20           Return of the Jedi (1983)  4.007890                      507\n",
            "40      When Harry Met Sally... (1989)  3.910345                      290\n",
            "44                 Forrest Gump (1994)  3.853583                      321\n",
            "45                  Chasing Amy (1997)  3.839050                      379\n",
            "54                Groundhog Day (1993)  3.764286                      280\n",
            "60                Jerry Maguire (1996)  3.710938                      384\n",
            "64            Leaving Las Vegas (1995)  3.697987                      298\n",
            "67  Four Weddings and a Funeral (1994)  3.661355                      251\n",
            "69         English Patient, The (1996)  3.656965                      481\n",
            "****************************     ******************************     ******************************\n",
            "                             \n",
            "                             \n",
            "****************************     ******************************     ******************************\n",
            "****************************     ****** GENRE:  Sci-Fi  ******     ******************************\n",
            "    \n"
          ],
          "name": "stdout"
        },
        {
          "output_type": "display_data",
          "data": {
            "image/png": "[encoded data removed]",
            "text/plain": [
              "<Figure size 720x432 with 1 Axes>"
            ]
          },
          "metadata": {
            "tags": [],
            "needs_background": "light"
          }
        },
        {
          "output_type": "stream",
          "text": [
            "Total number of users watched this Genre:  12730\n",
            "  \n",
            "These are the top movies that can be naviely suggested to the new users for the requested movie genre: Sci-Fi . Recommendations based on top average ratings.\n",
            "                                                      rating\n",
            "movie title                                                 \n",
            "Star Kid (1997)                                     5.000000\n",
            "Star Wars (1977)                                    4.358491\n",
            "Dr. Strangelove or: How I Learned to Stop Worry...  4.252577\n",
            "Empire Strikes Back, The (1980)                     4.204360\n",
            "Blade Runner (1982)                                 4.138182\n",
            "Alien (1979)                                        4.034364\n",
            "Return of the Jedi (1983)                           4.007890\n",
            "Terminator 2: Judgment Day (1991)                   4.006780\n",
            "2001: A Space Odyssey (1968)                        3.969112\n",
            "Aliens (1986)                                       3.947183\n",
            "****************************     ******************************     ******************************\n",
            "These are the most popular movies which can be recommended to a new user in Sci-Fi genre. Recommendations based on Popularity\n",
            "                       movie title  Number of Users watched\n",
            "0                 Star Wars (1977)                      583\n",
            "1                   Contact (1997)                      509\n",
            "2        Return of the Jedi (1983)                      507\n",
            "3    Independence Day (ID4) (1996)                      429\n",
            "4            Twelve Monkeys (1995)                      392\n",
            "5  Empire Strikes Back, The (1980)                      367\n",
            "6  Star Trek: First Contact (1996)                      365\n",
            "7        Back to the Future (1985)                      350\n",
            "8              Men in Black (1997)                      303\n",
            "9           Terminator, The (1984)                      301\n",
            "****************************     ******************************     ******************************\n",
            "These movies are the best to suggest to a new user within their requested genre as they are popular and well rated by the users who already watched them.\n",
            "These have rating more than  3.5  with atleast  250  viewers.\n",
            "**Recommendations based popularity and rating. These are top rated popular movies**\n",
            "                          movie title    rating  Number of Users watched\n",
            "1                    Star Wars (1977)  4.358491                      583\n",
            "3     Empire Strikes Back, The (1980)  4.204360                      367\n",
            "4                 Blade Runner (1982)  4.138182                      275\n",
            "5                        Alien (1979)  4.034364                      291\n",
            "6           Return of the Jedi (1983)  4.007890                      507\n",
            "7   Terminator 2: Judgment Day (1991)  4.006780                      295\n",
            "8        2001: A Space Odyssey (1968)  3.969112                      259\n",
            "9                       Aliens (1986)  3.947183                      284\n",
            "11             Terminator, The (1984)  3.933555                      301\n",
            "15          Back to the Future (1985)  3.834286                      350\n",
            "16  E.T. the Extra-Terrestrial (1982)  3.833333                      300\n",
            "19                     Contact (1997)  3.803536                      509\n",
            "20              Twelve Monkeys (1995)  3.798469                      392\n",
            "23                Men in Black (1997)  3.745875                      303\n",
            "24               Jurassic Park (1993)  3.720307                      261\n",
            "25    Star Trek: First Contact (1996)  3.660274                      365\n",
            "****************************     ******************************     ******************************\n",
            "                             \n",
            "                             \n",
            "****************************     ******************************     ******************************\n",
            "****************************     ****** GENRE:  Thriller  ******     ******************************\n",
            "    \n"
          ],
          "name": "stdout"
        },
        {
          "output_type": "display_data",
          "data": {
            "image/png": "[encoded data removed]",
            "text/plain": [
              "<Figure size 720x432 with 1 Axes>"
            ]
          },
          "metadata": {
            "tags": [],
            "needs_background": "light"
          }
        },
        {
          "output_type": "stream",
          "text": [
            "Total number of users watched this Genre:  21872\n",
            "  \n",
            "These are the top movies that can be naviely suggested to the new users for the requested movie genre: Thriller . Recommendations based on top average ratings.\n",
            "                                           rating\n",
            "movie title                                      \n",
            "Close Shave, A (1995)                    4.491071\n",
            "Rear Window (1954)                       4.387560\n",
            "Usual Suspects, The (1995)               4.385768\n",
            "Third Man, The (1949)                    4.333333\n",
            "Some Folks Call It a Sling Blade (1993)  4.292683\n",
            "Silence of the Lambs, The (1991)         4.289744\n",
            "North by Northwest (1959)                4.284916\n",
            "Manchurian Candidate, The (1962)         4.259542\n",
            "Vertigo (1958)                           4.251397\n",
            "Innocents, The (1961)                    4.250000\n",
            "****************************     ******************************     ******************************\n",
            "These are the most popular movies which can be recommended to a new user in Thriller genre. Recommendations based on Popularity\n",
            "                        movie title  Number of Users watched\n",
            "0                      Fargo (1996)                      508\n",
            "1                     Scream (1996)                      478\n",
            "2              Air Force One (1997)                      431\n",
            "3  Silence of the Lambs, The (1991)                      390\n",
            "4                  Rock, The (1996)                      378\n",
            "5              Fugitive, The (1993)                      336\n",
            "6                 Saint, The (1997)                      316\n",
            "7            Terminator, The (1984)                      301\n",
            "8          L.A. Confidential (1997)                      297\n",
            "9          Conspiracy Theory (1997)                      295\n",
            "****************************     ******************************     ******************************\n",
            "These movies are the best to suggest to a new user within their requested genre as they are popular and well rated by the users who already watched them.\n",
            "These have rating more than  3.5  with atleast  250  viewers.\n",
            "**Recommendations based popularity and rating. These are top rated popular movies**\n",
            "                          movie title    rating  Number of Users watched\n",
            "2          Usual Suspects, The (1995)  4.385768                      267\n",
            "5    Silence of the Lambs, The (1991)  4.289744                      390\n",
            "11           L.A. Confidential (1997)  4.161616                      297\n",
            "12                       Fargo (1996)  4.155512                      508\n",
            "20               Fugitive, The (1993)  4.044643                      336\n",
            "21                       Alien (1979)  4.034364                      291\n",
            "24  Terminator 2: Judgment Day (1991)  4.006780                      295\n",
            "34       2001: A Space Odyssey (1968)  3.969112                      259\n",
            "36                      Aliens (1986)  3.947183                      284\n",
            "37             Terminator, The (1984)  3.933555                      301\n",
            "39                   Apollo 13 (1995)  3.931159                      276\n",
            "54                   Rock, The (1996)  3.693122                      378\n",
            "58                      Ransom (1996)  3.644195                      267\n",
            "59               Air Force One (1997)  3.631090                      431\n",
            "65                   Game, The (1997)  3.593625                      251\n",
            "****************************     ******************************     ******************************\n",
            "                             \n",
            "                             \n",
            "****************************     ******************************     ******************************\n",
            "****************************     ****** GENRE:  War  ******     ******************************\n",
            "    \n"
          ],
          "name": "stdout"
        },
        {
          "output_type": "display_data",
          "data": {
            "image/png": "[encoded data removed]",
            "text/plain": [
              "<Figure size 720x432 with 1 Axes>"
            ]
          },
          "metadata": {
            "tags": [],
            "needs_background": "light"
          }
        },
        {
          "output_type": "stream",
          "text": [
            "Total number of users watched this Genre:  9398\n",
            "  \n",
            "These are the top movies that can be naviely suggested to the new users for the requested movie genre: War . Recommendations based on top average ratings.\n",
            "                                                      rating\n",
            "movie title                                                 \n",
            "Schindler's List (1993)                             4.466443\n",
            "Casablanca (1942)                                   4.456790\n",
            "Star Wars (1977)                                    4.358491\n",
            "Dr. Strangelove or: How I Learned to Stop Worry...  4.252577\n",
            "Lawrence of Arabia (1962)                           4.231214\n",
            "Paths of Glory (1957)                               4.212121\n",
            "Empire Strikes Back, The (1980)                     4.204360\n",
            "Boot, Das (1981)                                    4.203980\n",
            "African Queen, The (1951)                           4.184211\n",
            "Bridge on the River Kwai, The (1957)                4.175758\n",
            "****************************     ******************************     ******************************\n",
            "These are the most popular movies which can be recommended to a new user in War genre. Recommendations based on Popularity\n",
            "                       movie title  Number of Users watched\n",
            "0                 Star Wars (1977)                      583\n",
            "1        Return of the Jedi (1983)                      507\n",
            "2      English Patient, The (1996)                      481\n",
            "3    Independence Day (ID4) (1996)                      429\n",
            "4  Empire Strikes Back, The (1980)                      367\n",
            "5              Forrest Gump (1994)                      321\n",
            "6          Schindler's List (1993)                      298\n",
            "7                Braveheart (1995)                      297\n",
            "8                    Aliens (1986)                      284\n",
            "9                Casablanca (1942)                      243\n",
            "****************************     ******************************     ******************************\n",
            "These movies are the best to suggest to a new user within their requested genre as they are popular and well rated by the users who already watched them.\n",
            "These have rating more than  3.5  with atleast  200  viewers.\n",
            "**Recommendations based popularity and rating. These are top rated popular movies**\n",
            "                        movie title    rating  Number of Users watched\n",
            "0           Schindler's List (1993)  4.466443                      298\n",
            "1                 Casablanca (1942)  4.456790                      243\n",
            "2                  Star Wars (1977)  4.358491                      583\n",
            "6   Empire Strikes Back, The (1980)  4.204360                      367\n",
            "7                  Boot, Das (1981)  4.203980                      201\n",
            "10                Braveheart (1995)  4.151515                      297\n",
            "16            Apocalypse Now (1979)  4.045249                      221\n",
            "17        Return of the Jedi (1983)  4.007890                      507\n",
            "21                    Aliens (1986)  3.947183                      284\n",
            "22                   M*A*S*H (1970)  3.912621                      206\n",
            "24              Forrest Gump (1994)  3.853583                      321\n",
            "32      English Patient, The (1996)  3.656965                      481\n",
            "36        Courage Under Fire (1996)  3.610860                      221\n",
            "****************************     ******************************     ******************************\n",
            "                             \n",
            "                             \n",
            "****************************     ******************************     ******************************\n",
            "****************************     ****** GENRE:  Western  ******     ******************************\n",
            "    \n"
          ],
          "name": "stdout"
        },
        {
          "output_type": "display_data",
          "data": {
            "image/png": "[encoded data removed]",
            "text/plain": [
              "<Figure size 720x432 with 1 Axes>"
            ]
          },
          "metadata": {
            "tags": [],
            "needs_background": "light"
          }
        },
        {
          "output_type": "stream",
          "text": [
            "Total number of users watched this Genre:  1854\n",
            "  \n",
            "These are the top movies that can be naviely suggested to the new users for the requested movie genre: Western . Recommendations based on top average ratings.\n",
            "                                             rating\n",
            "movie title                                        \n",
            "High Noon (1952)                           4.102273\n",
            "Wild Bunch, The (1969)                     4.023256\n",
            "Butch Cassidy and the Sundance Kid (1969)  3.949074\n",
            "Magnificent Seven, The (1954)              3.942149\n",
            "Once Upon a Time in the West (1969)        3.868421\n",
            "Unforgiven (1992)                          3.868132\n",
            "Good, The Bad and The Ugly, The (1966)     3.861314\n",
            "Dead Man (1995)                            3.823529\n",
            "Dances with Wolves (1990)                  3.792969\n",
            "Tombstone (1993)                           3.666667\n",
            "****************************     ******************************     ******************************\n",
            "These are the most popular movies which can be recommended to a new user in Western genre. Recommendations based on Popularity\n",
            "                                 movie title  Number of Users watched\n",
            "0                  Dances with Wolves (1990)                      256\n",
            "1  Butch Cassidy and the Sundance Kid (1969)                      216\n",
            "2                          Unforgiven (1992)                      182\n",
            "3     Good, The Bad and The Ugly, The (1966)                      137\n",
            "4                            Maverick (1994)                      128\n",
            "5              Magnificent Seven, The (1954)                      121\n",
            "6                           Tombstone (1993)                      108\n",
            "7                          Young Guns (1988)                      101\n",
            "8                           High Noon (1952)                       88\n",
            "9                 Legends of the Fall (1994)                       81\n",
            "****************************     ******************************     ******************************\n",
            "These movies are the best to suggest to a new user within their requested genre as they are popular and well rated by the users who already watched them.\n",
            "These have rating more than  2.0  with atleast  50  viewers.\n",
            "**Recommendations based popularity and rating. These are top rated popular movies**\n",
            "                                  movie title  ...  Number of Users watched\n",
            "0                            High Noon (1952)  ...                       88\n",
            "2   Butch Cassidy and the Sundance Kid (1969)  ...                      216\n",
            "3               Magnificent Seven, The (1954)  ...                      121\n",
            "5                           Unforgiven (1992)  ...                      182\n",
            "6      Good, The Bad and The Ugly, The (1966)  ...                      137\n",
            "8                   Dances with Wolves (1990)  ...                      256\n",
            "9                            Tombstone (1993)  ...                      108\n",
            "10                            Maverick (1994)  ...                      128\n",
            "11                 Legends of the Fall (1994)  ...                       81\n",
            "13                          Young Guns (1988)  ...                      101\n",
            "21                   Last Man Standing (1996)  ...                       53\n",
            "\n",
            "[11 rows x 3 columns]\n",
            "****************************     ******************************     ******************************\n",
            "                             \n",
            "                             \n"
          ],
          "name": "stdout"
        }
      ]
    },
    {
      "cell_type": "markdown",
      "metadata": {
        "id": "xMcFJgHlXGuR"
      },
      "source": [
        "We can see rating frequency plot, movie recommendation based on only high ratings, only popularity and high rated popular movie for each movie genre separately."
      ]
    },
    {
      "cell_type": "code",
      "metadata": {
        "id": "aneLfqrtXFk9"
      },
      "source": [
        ""
      ],
      "execution_count": null,
      "outputs": []
    },
    {
      "cell_type": "markdown",
      "metadata": {
        "id": "IhY_79CI31QH"
      },
      "source": [
        "# Rough Work"
      ]
    },
    {
      "cell_type": "code",
      "metadata": {
        "id": "5lmhc7hi6Mvb",
        "outputId": "49870b24-c0ca-420f-ad7e-355e51694032",
        "colab": {
          "base_uri": "https://localhost:8080/",
          "height": 204
        }
      },
      "source": [
        "x = 'Western'\n",
        "genre_based_movies = items_dataset[['movie id','movie title',x]]\n",
        "genre_based_movies = genre_based_movies[genre_based_movies[x] == 1]\n",
        "merged_genre_movies = pd.merge(dataset, genre_based_movies, how='inner', on='movie id')\n",
        "merged_genre_movies.head()\n"
      ],
      "execution_count": null,
      "outputs": [
        {
          "output_type": "execute_result",
          "data": {
            "text/html": [
              "<div>\n",
              "<style scoped>\n",
              "    .dataframe tbody tr th:only-of-type {\n",
              "        vertical-align: middle;\n",
              "    }\n",
              "\n",
              "    .dataframe tbody tr th {\n",
              "        vertical-align: top;\n",
              "    }\n",
              "\n",
              "    .dataframe thead th {\n",
              "        text-align: right;\n",
              "    }\n",
              "</style>\n",
              "<table border=\"1\" class=\"dataframe\">\n",
              "  <thead>\n",
              "    <tr style=\"text-align: right;\">\n",
              "      <th></th>\n",
              "      <th>user id</th>\n",
              "      <th>movie id</th>\n",
              "      <th>rating</th>\n",
              "      <th>timestamp</th>\n",
              "      <th>movie title</th>\n",
              "      <th>Western</th>\n",
              "    </tr>\n",
              "  </thead>\n",
              "  <tbody>\n",
              "    <tr>\n",
              "      <th>0</th>\n",
              "      <td>244</td>\n",
              "      <td>51</td>\n",
              "      <td>2</td>\n",
              "      <td>880606923</td>\n",
              "      <td>Legends of the Fall (1994)</td>\n",
              "      <td>1</td>\n",
              "    </tr>\n",
              "    <tr>\n",
              "      <th>1</th>\n",
              "      <td>85</td>\n",
              "      <td>51</td>\n",
              "      <td>2</td>\n",
              "      <td>879454782</td>\n",
              "      <td>Legends of the Fall (1994)</td>\n",
              "      <td>1</td>\n",
              "    </tr>\n",
              "    <tr>\n",
              "      <th>2</th>\n",
              "      <td>201</td>\n",
              "      <td>51</td>\n",
              "      <td>2</td>\n",
              "      <td>884140751</td>\n",
              "      <td>Legends of the Fall (1994)</td>\n",
              "      <td>1</td>\n",
              "    </tr>\n",
              "    <tr>\n",
              "      <th>3</th>\n",
              "      <td>198</td>\n",
              "      <td>51</td>\n",
              "      <td>3</td>\n",
              "      <td>884208455</td>\n",
              "      <td>Legends of the Fall (1994)</td>\n",
              "      <td>1</td>\n",
              "    </tr>\n",
              "    <tr>\n",
              "      <th>4</th>\n",
              "      <td>330</td>\n",
              "      <td>51</td>\n",
              "      <td>5</td>\n",
              "      <td>876546753</td>\n",
              "      <td>Legends of the Fall (1994)</td>\n",
              "      <td>1</td>\n",
              "    </tr>\n",
              "  </tbody>\n",
              "</table>\n",
              "</div>"
            ],
            "text/plain": [
              "   user id  movie id  rating  timestamp                 movie title  Western\n",
              "0      244        51       2  880606923  Legends of the Fall (1994)        1\n",
              "1       85        51       2  879454782  Legends of the Fall (1994)        1\n",
              "2      201        51       2  884140751  Legends of the Fall (1994)        1\n",
              "3      198        51       3  884208455  Legends of the Fall (1994)        1\n",
              "4      330        51       5  876546753  Legends of the Fall (1994)        1"
            ]
          },
          "metadata": {
            "tags": []
          },
          "execution_count": 107
        }
      ]
    },
    {
      "cell_type": "code",
      "metadata": {
        "id": "QTpavk0cMAzF",
        "outputId": "3c48eaac-f29a-4cea-bc4b-42a6c44529ce",
        "colab": {
          "base_uri": "https://localhost:8080/",
          "height": 34
        }
      },
      "source": [
        "len(merged_genre_movies)"
      ],
      "execution_count": null,
      "outputs": [
        {
          "output_type": "execute_result",
          "data": {
            "text/plain": [
              "1854"
            ]
          },
          "metadata": {
            "tags": []
          },
          "execution_count": 108
        }
      ]
    },
    {
      "cell_type": "code",
      "metadata": {
        "id": "aOFHbwc2KqQ7",
        "outputId": "dc9e169b-ad63-4809-c808-aa601a216c3a",
        "colab": {
          "base_uri": "https://localhost:8080/",
          "height": 438
        }
      },
      "source": [
        "star_based_visualization(merged_genre_movies)"
      ],
      "execution_count": null,
      "outputs": [
        {
          "output_type": "display_data",
          "data": {
            "image/png": "[encoded data removed]",
            "text/plain": [
              "<Figure size 720x432 with 1 Axes>"
            ]
          },
          "metadata": {
            "tags": [],
            "needs_background": "light"
          }
        },
        {
          "output_type": "stream",
          "text": [
            "Total number of users watched this Genre:  1854\n",
            "  \n"
          ],
          "name": "stdout"
        }
      ]
    },
    {
      "cell_type": "code",
      "metadata": {
        "id": "w_M5bmyVDuM1",
        "outputId": "4a3a32a8-18e2-40d6-ef89-a7901e6c64bf",
        "colab": {
          "base_uri": "https://localhost:8080/",
          "height": 427
        }
      },
      "source": [
        "high_rated_movies = merged_genre_movies.groupby(['movie title']).agg({\"rating\":\"mean\"})['rating'].sort_values(ascending=False)\n",
        "high_rated_movies = high_rated_movies.to_frame()\n",
        "print(\"These are the top movies that can be naviely suggested to the new users for the requested movie genre:\", x, \". Recommendations based on top average ratings.\")\n",
        "high_rated_movies.head(10)"
      ],
      "execution_count": null,
      "outputs": [
        {
          "output_type": "stream",
          "text": [
            "These are the top movies that can be naviely suggested to the new users for the requested movie genre: Western . Recommendations based on top average ratings.\n"
          ],
          "name": "stdout"
        },
        {
          "output_type": "execute_result",
          "data": {
            "text/html": [
              "<div>\n",
              "<style scoped>\n",
              "    .dataframe tbody tr th:only-of-type {\n",
              "        vertical-align: middle;\n",
              "    }\n",
              "\n",
              "    .dataframe tbody tr th {\n",
              "        vertical-align: top;\n",
              "    }\n",
              "\n",
              "    .dataframe thead th {\n",
              "        text-align: right;\n",
              "    }\n",
              "</style>\n",
              "<table border=\"1\" class=\"dataframe\">\n",
              "  <thead>\n",
              "    <tr style=\"text-align: right;\">\n",
              "      <th></th>\n",
              "      <th>rating</th>\n",
              "    </tr>\n",
              "    <tr>\n",
              "      <th>movie title</th>\n",
              "      <th></th>\n",
              "    </tr>\n",
              "  </thead>\n",
              "  <tbody>\n",
              "    <tr>\n",
              "      <th>High Noon (1952)</th>\n",
              "      <td>4.102273</td>\n",
              "    </tr>\n",
              "    <tr>\n",
              "      <th>Wild Bunch, The (1969)</th>\n",
              "      <td>4.023256</td>\n",
              "    </tr>\n",
              "    <tr>\n",
              "      <th>Butch Cassidy and the Sundance Kid (1969)</th>\n",
              "      <td>3.949074</td>\n",
              "    </tr>\n",
              "    <tr>\n",
              "      <th>Magnificent Seven, The (1954)</th>\n",
              "      <td>3.942149</td>\n",
              "    </tr>\n",
              "    <tr>\n",
              "      <th>Once Upon a Time in the West (1969)</th>\n",
              "      <td>3.868421</td>\n",
              "    </tr>\n",
              "    <tr>\n",
              "      <th>Unforgiven (1992)</th>\n",
              "      <td>3.868132</td>\n",
              "    </tr>\n",
              "    <tr>\n",
              "      <th>Good, The Bad and The Ugly, The (1966)</th>\n",
              "      <td>3.861314</td>\n",
              "    </tr>\n",
              "    <tr>\n",
              "      <th>Dead Man (1995)</th>\n",
              "      <td>3.823529</td>\n",
              "    </tr>\n",
              "    <tr>\n",
              "      <th>Dances with Wolves (1990)</th>\n",
              "      <td>3.792969</td>\n",
              "    </tr>\n",
              "    <tr>\n",
              "      <th>Tombstone (1993)</th>\n",
              "      <td>3.666667</td>\n",
              "    </tr>\n",
              "  </tbody>\n",
              "</table>\n",
              "</div>"
            ],
            "text/plain": [
              "                                             rating\n",
              "movie title                                        \n",
              "High Noon (1952)                           4.102273\n",
              "Wild Bunch, The (1969)                     4.023256\n",
              "Butch Cassidy and the Sundance Kid (1969)  3.949074\n",
              "Magnificent Seven, The (1954)              3.942149\n",
              "Once Upon a Time in the West (1969)        3.868421\n",
              "Unforgiven (1992)                          3.868132\n",
              "Good, The Bad and The Ugly, The (1966)     3.861314\n",
              "Dead Man (1995)                            3.823529\n",
              "Dances with Wolves (1990)                  3.792969\n",
              "Tombstone (1993)                           3.666667"
            ]
          },
          "metadata": {
            "tags": []
          },
          "execution_count": 110
        }
      ]
    },
    {
      "cell_type": "code",
      "metadata": {
        "id": "1r8n9xS4HQpj"
      },
      "source": [
        "popular_movies_ingenre = merged_genre_movies.groupby(['movie title']).agg({\"rating\":\"count\"})['rating'].sort_values(ascending=False)\n",
        "popular_movies_ingenre = popular_movies_ingenre.to_frame()\n",
        "popular_movies_ingenre.reset_index(level=0, inplace=True)\n",
        "popular_movies_ingenre.columns = ['movie title', 'Number of Users watched']"
      ],
      "execution_count": null,
      "outputs": []
    },
    {
      "cell_type": "code",
      "metadata": {
        "id": "OqoyOQ3YPjwi",
        "outputId": "5f402fa2-f5e3-49f2-891b-4b54f5bab5ad",
        "colab": {
          "base_uri": "https://localhost:8080/",
          "height": 376
        }
      },
      "source": [
        "# popular_movies[popular_movies['Number of Users watched'] >= 400]\n",
        "print(\"These are the most popular movies which can be recommended to a new user in\",x,\"genre. Recommendations based on Popularity\")\n",
        "popular_movies_ingenre.sort_values('Number of Users watched', ascending=False).head(10)"
      ],
      "execution_count": null,
      "outputs": [
        {
          "output_type": "stream",
          "text": [
            "These are the most popular movies which can be recommended to a new user in Western genre. Recommendations based on Popularity\n"
          ],
          "name": "stdout"
        },
        {
          "output_type": "execute_result",
          "data": {
            "text/html": [
              "<div>\n",
              "<style scoped>\n",
              "    .dataframe tbody tr th:only-of-type {\n",
              "        vertical-align: middle;\n",
              "    }\n",
              "\n",
              "    .dataframe tbody tr th {\n",
              "        vertical-align: top;\n",
              "    }\n",
              "\n",
              "    .dataframe thead th {\n",
              "        text-align: right;\n",
              "    }\n",
              "</style>\n",
              "<table border=\"1\" class=\"dataframe\">\n",
              "  <thead>\n",
              "    <tr style=\"text-align: right;\">\n",
              "      <th></th>\n",
              "      <th>movie title</th>\n",
              "      <th>Number of Users watched</th>\n",
              "    </tr>\n",
              "  </thead>\n",
              "  <tbody>\n",
              "    <tr>\n",
              "      <th>0</th>\n",
              "      <td>Dances with Wolves (1990)</td>\n",
              "      <td>256</td>\n",
              "    </tr>\n",
              "    <tr>\n",
              "      <th>1</th>\n",
              "      <td>Butch Cassidy and the Sundance Kid (1969)</td>\n",
              "      <td>216</td>\n",
              "    </tr>\n",
              "    <tr>\n",
              "      <th>2</th>\n",
              "      <td>Unforgiven (1992)</td>\n",
              "      <td>182</td>\n",
              "    </tr>\n",
              "    <tr>\n",
              "      <th>3</th>\n",
              "      <td>Good, The Bad and The Ugly, The (1966)</td>\n",
              "      <td>137</td>\n",
              "    </tr>\n",
              "    <tr>\n",
              "      <th>4</th>\n",
              "      <td>Maverick (1994)</td>\n",
              "      <td>128</td>\n",
              "    </tr>\n",
              "    <tr>\n",
              "      <th>5</th>\n",
              "      <td>Magnificent Seven, The (1954)</td>\n",
              "      <td>121</td>\n",
              "    </tr>\n",
              "    <tr>\n",
              "      <th>6</th>\n",
              "      <td>Tombstone (1993)</td>\n",
              "      <td>108</td>\n",
              "    </tr>\n",
              "    <tr>\n",
              "      <th>7</th>\n",
              "      <td>Young Guns (1988)</td>\n",
              "      <td>101</td>\n",
              "    </tr>\n",
              "    <tr>\n",
              "      <th>8</th>\n",
              "      <td>High Noon (1952)</td>\n",
              "      <td>88</td>\n",
              "    </tr>\n",
              "    <tr>\n",
              "      <th>9</th>\n",
              "      <td>Legends of the Fall (1994)</td>\n",
              "      <td>81</td>\n",
              "    </tr>\n",
              "  </tbody>\n",
              "</table>\n",
              "</div>"
            ],
            "text/plain": [
              "                                 movie title  Number of Users watched\n",
              "0                  Dances with Wolves (1990)                      256\n",
              "1  Butch Cassidy and the Sundance Kid (1969)                      216\n",
              "2                          Unforgiven (1992)                      182\n",
              "3     Good, The Bad and The Ugly, The (1966)                      137\n",
              "4                            Maverick (1994)                      128\n",
              "5              Magnificent Seven, The (1954)                      121\n",
              "6                           Tombstone (1993)                      108\n",
              "7                          Young Guns (1988)                      101\n",
              "8                           High Noon (1952)                       88\n",
              "9                 Legends of the Fall (1994)                       81"
            ]
          },
          "metadata": {
            "tags": []
          },
          "execution_count": 112
        }
      ]
    },
    {
      "cell_type": "code",
      "metadata": {
        "id": "pef6XJRkAuH1",
        "outputId": "f44d1bbb-7047-42f9-d432-538cf2149553",
        "colab": {
          "base_uri": "https://localhost:8080/",
          "height": 359
        }
      },
      "source": [
        "highly_rated_popular_movies = pd.merge(high_rated_movies, popular_movies_ingenre, how = 'inner', on='movie title')\n",
        "highly_rated_popular_movies.head(10)"
      ],
      "execution_count": null,
      "outputs": [
        {
          "output_type": "execute_result",
          "data": {
            "text/html": [
              "<div>\n",
              "<style scoped>\n",
              "    .dataframe tbody tr th:only-of-type {\n",
              "        vertical-align: middle;\n",
              "    }\n",
              "\n",
              "    .dataframe tbody tr th {\n",
              "        vertical-align: top;\n",
              "    }\n",
              "\n",
              "    .dataframe thead th {\n",
              "        text-align: right;\n",
              "    }\n",
              "</style>\n",
              "<table border=\"1\" class=\"dataframe\">\n",
              "  <thead>\n",
              "    <tr style=\"text-align: right;\">\n",
              "      <th></th>\n",
              "      <th>movie title</th>\n",
              "      <th>rating</th>\n",
              "      <th>Number of Users watched</th>\n",
              "    </tr>\n",
              "  </thead>\n",
              "  <tbody>\n",
              "    <tr>\n",
              "      <th>0</th>\n",
              "      <td>High Noon (1952)</td>\n",
              "      <td>4.102273</td>\n",
              "      <td>88</td>\n",
              "    </tr>\n",
              "    <tr>\n",
              "      <th>1</th>\n",
              "      <td>Wild Bunch, The (1969)</td>\n",
              "      <td>4.023256</td>\n",
              "      <td>43</td>\n",
              "    </tr>\n",
              "    <tr>\n",
              "      <th>2</th>\n",
              "      <td>Butch Cassidy and the Sundance Kid (1969)</td>\n",
              "      <td>3.949074</td>\n",
              "      <td>216</td>\n",
              "    </tr>\n",
              "    <tr>\n",
              "      <th>3</th>\n",
              "      <td>Magnificent Seven, The (1954)</td>\n",
              "      <td>3.942149</td>\n",
              "      <td>121</td>\n",
              "    </tr>\n",
              "    <tr>\n",
              "      <th>4</th>\n",
              "      <td>Once Upon a Time in the West (1969)</td>\n",
              "      <td>3.868421</td>\n",
              "      <td>38</td>\n",
              "    </tr>\n",
              "    <tr>\n",
              "      <th>5</th>\n",
              "      <td>Unforgiven (1992)</td>\n",
              "      <td>3.868132</td>\n",
              "      <td>182</td>\n",
              "    </tr>\n",
              "    <tr>\n",
              "      <th>6</th>\n",
              "      <td>Good, The Bad and The Ugly, The (1966)</td>\n",
              "      <td>3.861314</td>\n",
              "      <td>137</td>\n",
              "    </tr>\n",
              "    <tr>\n",
              "      <th>7</th>\n",
              "      <td>Dead Man (1995)</td>\n",
              "      <td>3.823529</td>\n",
              "      <td>34</td>\n",
              "    </tr>\n",
              "    <tr>\n",
              "      <th>8</th>\n",
              "      <td>Dances with Wolves (1990)</td>\n",
              "      <td>3.792969</td>\n",
              "      <td>256</td>\n",
              "    </tr>\n",
              "    <tr>\n",
              "      <th>9</th>\n",
              "      <td>Tombstone (1993)</td>\n",
              "      <td>3.666667</td>\n",
              "      <td>108</td>\n",
              "    </tr>\n",
              "  </tbody>\n",
              "</table>\n",
              "</div>"
            ],
            "text/plain": [
              "                                 movie title    rating  Number of Users watched\n",
              "0                           High Noon (1952)  4.102273                       88\n",
              "1                     Wild Bunch, The (1969)  4.023256                       43\n",
              "2  Butch Cassidy and the Sundance Kid (1969)  3.949074                      216\n",
              "3              Magnificent Seven, The (1954)  3.942149                      121\n",
              "4        Once Upon a Time in the West (1969)  3.868421                       38\n",
              "5                          Unforgiven (1992)  3.868132                      182\n",
              "6     Good, The Bad and The Ugly, The (1966)  3.861314                      137\n",
              "7                            Dead Man (1995)  3.823529                       34\n",
              "8                  Dances with Wolves (1990)  3.792969                      256\n",
              "9                           Tombstone (1993)  3.666667                      108"
            ]
          },
          "metadata": {
            "tags": []
          },
          "execution_count": 113
        }
      ]
    },
    {
      "cell_type": "code",
      "metadata": {
        "id": "EL33xBMOAuNy",
        "outputId": "7be38ef4-1d4c-46f0-8f02-118ccb9e63c6",
        "colab": {
          "base_uri": "https://localhost:8080/",
          "height": 390
        }
      },
      "source": [
        "viewer_limit = 300\n",
        "ratings_limit = 4.0\n",
        "count = 0\n",
        "check = 0\n",
        "while viewer_limit > 0 and ratings_limit > 0:\n",
        "  s = highly_rated_popular_movies[(highly_rated_popular_movies['Number of Users watched']>viewer_limit) & (highly_rated_popular_movies['rating']>=ratings_limit)]\n",
        "  if len(s) < 11:\n",
        "    if check == 0:\n",
        "      viewer_limit -= 50\n",
        "      check = 1\n",
        "    else:\n",
        "      ratings_limit -= 0.5\n",
        "      check = 0\n",
        "  else:\n",
        "    break\n",
        "s"
      ],
      "execution_count": null,
      "outputs": [
        {
          "output_type": "execute_result",
          "data": {
            "text/html": [
              "<div>\n",
              "<style scoped>\n",
              "    .dataframe tbody tr th:only-of-type {\n",
              "        vertical-align: middle;\n",
              "    }\n",
              "\n",
              "    .dataframe tbody tr th {\n",
              "        vertical-align: top;\n",
              "    }\n",
              "\n",
              "    .dataframe thead th {\n",
              "        text-align: right;\n",
              "    }\n",
              "</style>\n",
              "<table border=\"1\" class=\"dataframe\">\n",
              "  <thead>\n",
              "    <tr style=\"text-align: right;\">\n",
              "      <th></th>\n",
              "      <th>movie title</th>\n",
              "      <th>rating</th>\n",
              "      <th>Number of Users watched</th>\n",
              "    </tr>\n",
              "  </thead>\n",
              "  <tbody>\n",
              "    <tr>\n",
              "      <th>0</th>\n",
              "      <td>High Noon (1952)</td>\n",
              "      <td>4.102273</td>\n",
              "      <td>88</td>\n",
              "    </tr>\n",
              "    <tr>\n",
              "      <th>2</th>\n",
              "      <td>Butch Cassidy and the Sundance Kid (1969)</td>\n",
              "      <td>3.949074</td>\n",
              "      <td>216</td>\n",
              "    </tr>\n",
              "    <tr>\n",
              "      <th>3</th>\n",
              "      <td>Magnificent Seven, The (1954)</td>\n",
              "      <td>3.942149</td>\n",
              "      <td>121</td>\n",
              "    </tr>\n",
              "    <tr>\n",
              "      <th>5</th>\n",
              "      <td>Unforgiven (1992)</td>\n",
              "      <td>3.868132</td>\n",
              "      <td>182</td>\n",
              "    </tr>\n",
              "    <tr>\n",
              "      <th>6</th>\n",
              "      <td>Good, The Bad and The Ugly, The (1966)</td>\n",
              "      <td>3.861314</td>\n",
              "      <td>137</td>\n",
              "    </tr>\n",
              "    <tr>\n",
              "      <th>8</th>\n",
              "      <td>Dances with Wolves (1990)</td>\n",
              "      <td>3.792969</td>\n",
              "      <td>256</td>\n",
              "    </tr>\n",
              "    <tr>\n",
              "      <th>9</th>\n",
              "      <td>Tombstone (1993)</td>\n",
              "      <td>3.666667</td>\n",
              "      <td>108</td>\n",
              "    </tr>\n",
              "    <tr>\n",
              "      <th>10</th>\n",
              "      <td>Maverick (1994)</td>\n",
              "      <td>3.468750</td>\n",
              "      <td>128</td>\n",
              "    </tr>\n",
              "    <tr>\n",
              "      <th>11</th>\n",
              "      <td>Legends of the Fall (1994)</td>\n",
              "      <td>3.456790</td>\n",
              "      <td>81</td>\n",
              "    </tr>\n",
              "    <tr>\n",
              "      <th>13</th>\n",
              "      <td>Young Guns (1988)</td>\n",
              "      <td>3.207921</td>\n",
              "      <td>101</td>\n",
              "    </tr>\n",
              "    <tr>\n",
              "      <th>21</th>\n",
              "      <td>Last Man Standing (1996)</td>\n",
              "      <td>2.660377</td>\n",
              "      <td>53</td>\n",
              "    </tr>\n",
              "  </tbody>\n",
              "</table>\n",
              "</div>"
            ],
            "text/plain": [
              "                                  movie title  ...  Number of Users watched\n",
              "0                            High Noon (1952)  ...                       88\n",
              "2   Butch Cassidy and the Sundance Kid (1969)  ...                      216\n",
              "3               Magnificent Seven, The (1954)  ...                      121\n",
              "5                           Unforgiven (1992)  ...                      182\n",
              "6      Good, The Bad and The Ugly, The (1966)  ...                      137\n",
              "8                   Dances with Wolves (1990)  ...                      256\n",
              "9                            Tombstone (1993)  ...                      108\n",
              "10                            Maverick (1994)  ...                      128\n",
              "11                 Legends of the Fall (1994)  ...                       81\n",
              "13                          Young Guns (1988)  ...                      101\n",
              "21                   Last Man Standing (1996)  ...                       53\n",
              "\n",
              "[11 rows x 3 columns]"
            ]
          },
          "metadata": {
            "tags": []
          },
          "execution_count": 114
        }
      ]
    },
    {
      "cell_type": "code",
      "metadata": {
        "id": "LkwH-StRfPsT",
        "outputId": "1013fd50-5c0b-4c87-c431-f473172ef8a2",
        "colab": {
          "base_uri": "https://localhost:8080/",
          "height": 34
        }
      },
      "source": [
        "a, r = 20,5.0\n",
        "# highly_rated_popular_movies[(highly_rated_popular_movies['Number of Users watched']<a) & (highly_rated_popular_movies['rating']<r)]\n",
        "len(popular_movies_ingenre)"
      ],
      "execution_count": null,
      "outputs": [
        {
          "output_type": "execute_result",
          "data": {
            "text/plain": [
              "50"
            ]
          },
          "metadata": {
            "tags": []
          },
          "execution_count": 106
        }
      ]
    },
    {
      "cell_type": "code",
      "metadata": {
        "id": "3lVKbR0KCNTA",
        "outputId": "b3b3d6fe-c1d3-45a8-d9f3-e2579a2ce91e",
        "colab": {
          "base_uri": "https://localhost:8080/",
          "height": 85
        }
      },
      "source": [
        "df = pd.DataFrame([[1, 2, 3], [4, 5, 1], [4, 5, 6]], columns = [\"a\", \"b\", \"c\"])\n",
        "print(df)"
      ],
      "execution_count": null,
      "outputs": [
        {
          "output_type": "stream",
          "text": [
            "   a  b  c\n",
            "0  1  2  3\n",
            "1  4  5  1\n",
            "2  4  5  6\n"
          ],
          "name": "stdout"
        }
      ]
    },
    {
      "cell_type": "code",
      "metadata": {
        "id": "LaNy-AFXCNWy",
        "outputId": "41a7faa0-5236-407e-c90d-eddccaa95178",
        "colab": {
          "base_uri": "https://localhost:8080/",
          "height": 85
        }
      },
      "source": [
        "df = df.sort_values([\"b\", \"c\"], ascending = (False, False))\n",
        "print(df)"
      ],
      "execution_count": null,
      "outputs": [
        {
          "output_type": "stream",
          "text": [
            "   a  b  c\n",
            "2  4  5  6\n",
            "1  4  5  1\n",
            "0  1  2  3\n"
          ],
          "name": "stdout"
        }
      ]
    },
    {
      "cell_type": "code",
      "metadata": {
        "id": "_rE2aZFmEYxd",
        "outputId": "5a639e59-ea20-4139-e293-2b9b8b2a88d8",
        "colab": {
          "base_uri": "https://localhost:8080/",
          "height": 758
        }
      },
      "source": [
        "items_dataset"
      ],
      "execution_count": null,
      "outputs": [
        {
          "output_type": "execute_result",
          "data": {
            "text/html": [
              "<div>\n",
              "<style scoped>\n",
              "    .dataframe tbody tr th:only-of-type {\n",
              "        vertical-align: middle;\n",
              "    }\n",
              "\n",
              "    .dataframe tbody tr th {\n",
              "        vertical-align: top;\n",
              "    }\n",
              "\n",
              "    .dataframe thead th {\n",
              "        text-align: right;\n",
              "    }\n",
              "</style>\n",
              "<table border=\"1\" class=\"dataframe\">\n",
              "  <thead>\n",
              "    <tr style=\"text-align: right;\">\n",
              "      <th></th>\n",
              "      <th>movie id</th>\n",
              "      <th>movie title</th>\n",
              "      <th>release date</th>\n",
              "      <th>video release date</th>\n",
              "      <th>IMDb URL</th>\n",
              "      <th>unknown</th>\n",
              "      <th>Action</th>\n",
              "      <th>Adventure</th>\n",
              "      <th>Animation</th>\n",
              "      <th>Children</th>\n",
              "      <th>Comedy</th>\n",
              "      <th>Crime</th>\n",
              "      <th>Documentary</th>\n",
              "      <th>Drama</th>\n",
              "      <th>Fantasy</th>\n",
              "      <th>Film-Noir</th>\n",
              "      <th>Horror</th>\n",
              "      <th>Musical</th>\n",
              "      <th>Mystery</th>\n",
              "      <th>Romance</th>\n",
              "      <th>Sci-Fi</th>\n",
              "      <th>Thriller</th>\n",
              "      <th>War</th>\n",
              "      <th>Western</th>\n",
              "    </tr>\n",
              "  </thead>\n",
              "  <tbody>\n",
              "    <tr>\n",
              "      <th>0</th>\n",
              "      <td>1</td>\n",
              "      <td>Toy Story (1995)</td>\n",
              "      <td>01-Jan-1995</td>\n",
              "      <td>NaN</td>\n",
              "      <td>http://us.imdb.com/M/title-exact?Toy%20Story%2...</td>\n",
              "      <td>0</td>\n",
              "      <td>0</td>\n",
              "      <td>0</td>\n",
              "      <td>1</td>\n",
              "      <td>1</td>\n",
              "      <td>1</td>\n",
              "      <td>0</td>\n",
              "      <td>0</td>\n",
              "      <td>0</td>\n",
              "      <td>0</td>\n",
              "      <td>0</td>\n",
              "      <td>0</td>\n",
              "      <td>0</td>\n",
              "      <td>0</td>\n",
              "      <td>0</td>\n",
              "      <td>0</td>\n",
              "      <td>0</td>\n",
              "      <td>0</td>\n",
              "      <td>0</td>\n",
              "    </tr>\n",
              "    <tr>\n",
              "      <th>1</th>\n",
              "      <td>2</td>\n",
              "      <td>GoldenEye (1995)</td>\n",
              "      <td>01-Jan-1995</td>\n",
              "      <td>NaN</td>\n",
              "      <td>http://us.imdb.com/M/title-exact?GoldenEye%20(...</td>\n",
              "      <td>0</td>\n",
              "      <td>1</td>\n",
              "      <td>1</td>\n",
              "      <td>0</td>\n",
              "      <td>0</td>\n",
              "      <td>0</td>\n",
              "      <td>0</td>\n",
              "      <td>0</td>\n",
              "      <td>0</td>\n",
              "      <td>0</td>\n",
              "      <td>0</td>\n",
              "      <td>0</td>\n",
              "      <td>0</td>\n",
              "      <td>0</td>\n",
              "      <td>0</td>\n",
              "      <td>0</td>\n",
              "      <td>1</td>\n",
              "      <td>0</td>\n",
              "      <td>0</td>\n",
              "    </tr>\n",
              "    <tr>\n",
              "      <th>2</th>\n",
              "      <td>3</td>\n",
              "      <td>Four Rooms (1995)</td>\n",
              "      <td>01-Jan-1995</td>\n",
              "      <td>NaN</td>\n",
              "      <td>http://us.imdb.com/M/title-exact?Four%20Rooms%...</td>\n",
              "      <td>0</td>\n",
              "      <td>0</td>\n",
              "      <td>0</td>\n",
              "      <td>0</td>\n",
              "      <td>0</td>\n",
              "      <td>0</td>\n",
              "      <td>0</td>\n",
              "      <td>0</td>\n",
              "      <td>0</td>\n",
              "      <td>0</td>\n",
              "      <td>0</td>\n",
              "      <td>0</td>\n",
              "      <td>0</td>\n",
              "      <td>0</td>\n",
              "      <td>0</td>\n",
              "      <td>0</td>\n",
              "      <td>1</td>\n",
              "      <td>0</td>\n",
              "      <td>0</td>\n",
              "    </tr>\n",
              "    <tr>\n",
              "      <th>3</th>\n",
              "      <td>4</td>\n",
              "      <td>Get Shorty (1995)</td>\n",
              "      <td>01-Jan-1995</td>\n",
              "      <td>NaN</td>\n",
              "      <td>http://us.imdb.com/M/title-exact?Get%20Shorty%...</td>\n",
              "      <td>0</td>\n",
              "      <td>1</td>\n",
              "      <td>0</td>\n",
              "      <td>0</td>\n",
              "      <td>0</td>\n",
              "      <td>1</td>\n",
              "      <td>0</td>\n",
              "      <td>0</td>\n",
              "      <td>1</td>\n",
              "      <td>0</td>\n",
              "      <td>0</td>\n",
              "      <td>0</td>\n",
              "      <td>0</td>\n",
              "      <td>0</td>\n",
              "      <td>0</td>\n",
              "      <td>0</td>\n",
              "      <td>0</td>\n",
              "      <td>0</td>\n",
              "      <td>0</td>\n",
              "    </tr>\n",
              "    <tr>\n",
              "      <th>4</th>\n",
              "      <td>5</td>\n",
              "      <td>Copycat (1995)</td>\n",
              "      <td>01-Jan-1995</td>\n",
              "      <td>NaN</td>\n",
              "      <td>http://us.imdb.com/M/title-exact?Copycat%20(1995)</td>\n",
              "      <td>0</td>\n",
              "      <td>0</td>\n",
              "      <td>0</td>\n",
              "      <td>0</td>\n",
              "      <td>0</td>\n",
              "      <td>0</td>\n",
              "      <td>1</td>\n",
              "      <td>0</td>\n",
              "      <td>1</td>\n",
              "      <td>0</td>\n",
              "      <td>0</td>\n",
              "      <td>0</td>\n",
              "      <td>0</td>\n",
              "      <td>0</td>\n",
              "      <td>0</td>\n",
              "      <td>0</td>\n",
              "      <td>1</td>\n",
              "      <td>0</td>\n",
              "      <td>0</td>\n",
              "    </tr>\n",
              "    <tr>\n",
              "      <th>...</th>\n",
              "      <td>...</td>\n",
              "      <td>...</td>\n",
              "      <td>...</td>\n",
              "      <td>...</td>\n",
              "      <td>...</td>\n",
              "      <td>...</td>\n",
              "      <td>...</td>\n",
              "      <td>...</td>\n",
              "      <td>...</td>\n",
              "      <td>...</td>\n",
              "      <td>...</td>\n",
              "      <td>...</td>\n",
              "      <td>...</td>\n",
              "      <td>...</td>\n",
              "      <td>...</td>\n",
              "      <td>...</td>\n",
              "      <td>...</td>\n",
              "      <td>...</td>\n",
              "      <td>...</td>\n",
              "      <td>...</td>\n",
              "      <td>...</td>\n",
              "      <td>...</td>\n",
              "      <td>...</td>\n",
              "      <td>...</td>\n",
              "    </tr>\n",
              "    <tr>\n",
              "      <th>1677</th>\n",
              "      <td>1678</td>\n",
              "      <td>Mat' i syn (1997)</td>\n",
              "      <td>06-Feb-1998</td>\n",
              "      <td>NaN</td>\n",
              "      <td>http://us.imdb.com/M/title-exact?Mat%27+i+syn+...</td>\n",
              "      <td>0</td>\n",
              "      <td>0</td>\n",
              "      <td>0</td>\n",
              "      <td>0</td>\n",
              "      <td>0</td>\n",
              "      <td>0</td>\n",
              "      <td>0</td>\n",
              "      <td>0</td>\n",
              "      <td>1</td>\n",
              "      <td>0</td>\n",
              "      <td>0</td>\n",
              "      <td>0</td>\n",
              "      <td>0</td>\n",
              "      <td>0</td>\n",
              "      <td>0</td>\n",
              "      <td>0</td>\n",
              "      <td>0</td>\n",
              "      <td>0</td>\n",
              "      <td>0</td>\n",
              "    </tr>\n",
              "    <tr>\n",
              "      <th>1678</th>\n",
              "      <td>1679</td>\n",
              "      <td>B. Monkey (1998)</td>\n",
              "      <td>06-Feb-1998</td>\n",
              "      <td>NaN</td>\n",
              "      <td>http://us.imdb.com/M/title-exact?B%2E+Monkey+(...</td>\n",
              "      <td>0</td>\n",
              "      <td>0</td>\n",
              "      <td>0</td>\n",
              "      <td>0</td>\n",
              "      <td>0</td>\n",
              "      <td>0</td>\n",
              "      <td>0</td>\n",
              "      <td>0</td>\n",
              "      <td>0</td>\n",
              "      <td>0</td>\n",
              "      <td>0</td>\n",
              "      <td>0</td>\n",
              "      <td>0</td>\n",
              "      <td>0</td>\n",
              "      <td>1</td>\n",
              "      <td>0</td>\n",
              "      <td>1</td>\n",
              "      <td>0</td>\n",
              "      <td>0</td>\n",
              "    </tr>\n",
              "    <tr>\n",
              "      <th>1679</th>\n",
              "      <td>1680</td>\n",
              "      <td>Sliding Doors (1998)</td>\n",
              "      <td>01-Jan-1998</td>\n",
              "      <td>NaN</td>\n",
              "      <td>http://us.imdb.com/Title?Sliding+Doors+(1998)</td>\n",
              "      <td>0</td>\n",
              "      <td>0</td>\n",
              "      <td>0</td>\n",
              "      <td>0</td>\n",
              "      <td>0</td>\n",
              "      <td>0</td>\n",
              "      <td>0</td>\n",
              "      <td>0</td>\n",
              "      <td>1</td>\n",
              "      <td>0</td>\n",
              "      <td>0</td>\n",
              "      <td>0</td>\n",
              "      <td>0</td>\n",
              "      <td>0</td>\n",
              "      <td>1</td>\n",
              "      <td>0</td>\n",
              "      <td>0</td>\n",
              "      <td>0</td>\n",
              "      <td>0</td>\n",
              "    </tr>\n",
              "    <tr>\n",
              "      <th>1680</th>\n",
              "      <td>1681</td>\n",
              "      <td>You So Crazy (1994)</td>\n",
              "      <td>01-Jan-1994</td>\n",
              "      <td>NaN</td>\n",
              "      <td>http://us.imdb.com/M/title-exact?You%20So%20Cr...</td>\n",
              "      <td>0</td>\n",
              "      <td>0</td>\n",
              "      <td>0</td>\n",
              "      <td>0</td>\n",
              "      <td>0</td>\n",
              "      <td>1</td>\n",
              "      <td>0</td>\n",
              "      <td>0</td>\n",
              "      <td>0</td>\n",
              "      <td>0</td>\n",
              "      <td>0</td>\n",
              "      <td>0</td>\n",
              "      <td>0</td>\n",
              "      <td>0</td>\n",
              "      <td>0</td>\n",
              "      <td>0</td>\n",
              "      <td>0</td>\n",
              "      <td>0</td>\n",
              "      <td>0</td>\n",
              "    </tr>\n",
              "    <tr>\n",
              "      <th>1681</th>\n",
              "      <td>1682</td>\n",
              "      <td>Scream of Stone (Schrei aus Stein) (1991)</td>\n",
              "      <td>08-Mar-1996</td>\n",
              "      <td>NaN</td>\n",
              "      <td>http://us.imdb.com/M/title-exact?Schrei%20aus%...</td>\n",
              "      <td>0</td>\n",
              "      <td>0</td>\n",
              "      <td>0</td>\n",
              "      <td>0</td>\n",
              "      <td>0</td>\n",
              "      <td>0</td>\n",
              "      <td>0</td>\n",
              "      <td>0</td>\n",
              "      <td>1</td>\n",
              "      <td>0</td>\n",
              "      <td>0</td>\n",
              "      <td>0</td>\n",
              "      <td>0</td>\n",
              "      <td>0</td>\n",
              "      <td>0</td>\n",
              "      <td>0</td>\n",
              "      <td>0</td>\n",
              "      <td>0</td>\n",
              "      <td>0</td>\n",
              "    </tr>\n",
              "  </tbody>\n",
              "</table>\n",
              "<p>1682 rows × 24 columns</p>\n",
              "</div>"
            ],
            "text/plain": [
              "      movie id                                movie title  ... War  Western\n",
              "0            1                           Toy Story (1995)  ...   0        0\n",
              "1            2                           GoldenEye (1995)  ...   0        0\n",
              "2            3                          Four Rooms (1995)  ...   0        0\n",
              "3            4                          Get Shorty (1995)  ...   0        0\n",
              "4            5                             Copycat (1995)  ...   0        0\n",
              "...        ...                                        ...  ...  ..      ...\n",
              "1677      1678                          Mat' i syn (1997)  ...   0        0\n",
              "1678      1679                           B. Monkey (1998)  ...   0        0\n",
              "1679      1680                       Sliding Doors (1998)  ...   0        0\n",
              "1680      1681                        You So Crazy (1994)  ...   0        0\n",
              "1681      1682  Scream of Stone (Schrei aus Stein) (1991)  ...   0        0\n",
              "\n",
              "[1682 rows x 24 columns]"
            ]
          },
          "metadata": {
            "tags": []
          },
          "execution_count": 185
        }
      ]
    }
  ]
}
